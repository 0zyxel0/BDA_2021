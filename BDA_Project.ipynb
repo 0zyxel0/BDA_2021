{
 "cells": [
  {
   "cell_type": "markdown",
   "metadata": {},
   "source": [
    "## Install Libraries to be used\n",
    "- !pip install -U pip setuptools wheel\n",
    "- !pip install -U spacy\n",
    "- !python -m spacy download en_core_web_sm\n",
    "- !pip install emot --upgrade\n",
    "- !pip install emoji --upgrade\n",
    "- !pip install spacymoji\n",
    "- !pip install spacytextblob\n",
    "- !pip install wordcloud"
   ]
  },
  {
   "cell_type": "markdown",
   "metadata": {},
   "source": [
    "## Importing Libraries that will be used"
   ]
  },
  {
   "cell_type": "code",
   "execution_count": 1,
   "metadata": {},
   "outputs": [],
   "source": [
    "# General Dependencies\n",
    "import ast\n",
    "import json\n",
    "import random \n",
    "import pandas as pd\n",
    "import numpy as np\n",
    "from collections import Counter\n",
    "import matplotlib.pyplot as plt\n",
    "import re\n",
    "import os\n",
    "from timeit import default_timer as timer\n",
    "from tqdm.notebook import tqdm\n",
    "tqdm.pandas()\n",
    "\n",
    "# Load the fields list\n",
    "import fields\n",
    "fieldsFilter = fields.fields\n",
    "\n",
    "# Wordcloud Dependencies\n",
    "from PIL import Image\n",
    "from wordcloud import WordCloud, STOPWORDS\n",
    "\n",
    "# Emoji Dependencies\n",
    "import unicodedata\n",
    "from emot.emo_unicode import UNICODE_EMO, EMOTICONS\n",
    "import emoji\n",
    "\n"
   ]
  },
  {
   "cell_type": "markdown",
   "metadata": {},
   "source": [
    "## Initialize the NLP Module"
   ]
  },
  {
   "cell_type": "code",
   "execution_count": 2,
   "metadata": {},
   "outputs": [
    {
     "data": {
      "text/plain": [
       "<spacytextblob.spacytextblob.SpacyTextBlob at 0x2bf3c5f7610>"
      ]
     },
     "execution_count": 2,
     "metadata": {},
     "output_type": "execute_result"
    }
   ],
   "source": [
    "# Declare Spacy NLP Module\n",
    "import spacy\n",
    "from spacytextblob.spacytextblob import SpacyTextBlob\n",
    "\n",
    "# Load English tokenizer, tagger, parser and NER\n",
    "nlp = spacy.load(\"en_core_web_sm\")\n",
    "nlp.add_pipe('spacytextblob')"
   ]
  },
  {
   "cell_type": "markdown",
   "metadata": {},
   "source": [
    "## Initialize the Functions"
   ]
  },
  {
   "cell_type": "code",
   "execution_count": 3,
   "metadata": {},
   "outputs": [],
   "source": [
    "def createDataSample(datafile = \"\",sample_count = 0):\n",
    "    \n",
    "    '''\n",
    "        Creates a sample dataset from a given json file\n",
    "        @param {'type':string} datafile - file path of the twitter json file\n",
    "        @param {'type':string} sample_count - Number of samples to create\n",
    "        \n",
    "    '''\n",
    "    \n",
    "    list_tweets = None\n",
    "    \n",
    "    with open(datafile, \"r\") as myfile:        \n",
    "        list_tweets = list(myfile)\n",
    "\n",
    "    if int(sample_count) > len(list_tweets):\n",
    "        sample_count = len(list_tweets)\n",
    "\n",
    "    sample = random.sample(list_tweets, int(sample_count))\n",
    "    \n",
    "    file = open(\"./tweets/sample_\"+str(sample_count)+\".json\", \"w\")\n",
    "    for i in sample:\n",
    "        file.write(i)\n",
    "    file.close() #This close() is important\n",
    "\n",
    "    return print(\"Sample File Created.\")\n",
    "\n",
    "\n",
    "# CLEANING  FUNCTIONS\n",
    "\n",
    "def remove_emoticons(text):\n",
    "    emoticon_pattern = re.compile(u'(' + u'|'.join(k for k in EMOTICONS) + u')')\n",
    "    return emoticon_pattern.sub(r'', text)\n",
    "\n",
    "def remove_emoji(text):\n",
    "    emoji_pattern = re.compile(\"[\"\n",
    "                           u\"\\U0001F600-\\U0001F64F\"  # emoticons\n",
    "                           u\"\\U0001F300-\\U0001F5FF\"  # symbols & pictographs\n",
    "                           u\"\\U0001F680-\\U0001F6FF\"  # transport & map symbols\n",
    "                           u\"\\U0001F1E0-\\U0001F1FF\"  # flags (iOS)\n",
    "                           u\"\\U00002702-\\U000027B0\"\n",
    "                           u\"\\U000024C2-\\U0001F251\"\n",
    "                           \"]+\", flags=re.UNICODE)\n",
    "    return emoji_pattern.sub(r'', text)\n",
    "\n",
    "def remove_urls(text):\n",
    "    result = re.sub(r\"http\\S+\", \"\", text)\n",
    "    return(result)\n",
    "\n",
    "def remove_twitter_urls(text):\n",
    "    clean = re.sub(r\"pic.twitter\\S+\", \"\",text)\n",
    "    return(clean)\n",
    "\n",
    "def give_emoji_free_text(text):\n",
    "    return emoji.get_emoji_regexp().sub(r'', text)\n",
    "\n",
    "def remove_user_mentions(text):\n",
    "    clean_tweet = re.sub(\"@[A-Za-z0-9_]+\",\"\", text)\n",
    "    clean_tweet = re.sub(\"#[A-Za-z0-9_]+\",\"\", clean_tweet)\n",
    "    return clean_tweet\n",
    "\n",
    "def change_to_lowercase(text):\n",
    "    return text.lower()    \n",
    "\n",
    "def remove_returnchar(text):\n",
    "    clean_tweet = text.replace('\\r','')\n",
    "    return clean_tweet\n",
    "\n",
    "def remove_whitespaces(text):\n",
    "    clean_tweet = text.replace(r'(\\r\\n)+|\\r+|\\n+|\\t+','')\n",
    "    return clean_tweet\n",
    "    \n",
    "def extractTweetText(datfile):\n",
    "    \n",
    "    #Initialize Temporary Array Storage\n",
    "    tempStorage = []\n",
    "\n",
    "    #Parse Json to a temporary storage\n",
    "    with open('./tweets/'+datfile, 'r') as f:\n",
    "        for line in f:\n",
    "            tempStorage.append(json.loads(line))\n",
    "\n",
    "    # Convert Array to a Pandas Data Frame\n",
    "    tempFrame = pd.DataFrame(tempStorage)\n",
    "    \n",
    "    # Drop all columns except for text column\n",
    "    tempFrame = tempFrame[['text']]\n",
    "    \n",
    "    #Get only the file name and remove the extension\n",
    "    fname = str(datfile).split('.')[0]\n",
    "    \n",
    "    #Save dataframe to csv\n",
    "    tempFrame.to_csv(r'./step_1/s1_'+str(fname)+'.csv')\n",
    "\n",
    "# Clean and process tweet text by removing URL, EMOJI and User Mentions\n",
    "def removeTwitterMeta(datfile):    \n",
    "    tweet_df = pd.read_csv('./step_1/'+str(datfile),index_col=False) \n",
    "    #Replace the spaces and enters\n",
    "    tweet_df = tweet_df.loc[:, tweet_df.columns.isin(fieldsFilter)]\n",
    "    print(\"Step 1 : Cleaning Whitespaces\")\n",
    "    tweet_df['text'] = tweet_df['text'].progress_apply(lambda x : remove_whitespaces(x))\n",
    "    print(\"Step 2 : Cleaning URLs\")\n",
    "    tweet_df['text'] = tweet_df['text'].progress_apply(lambda x : remove_urls(x))\n",
    "    print(\"Step 3 : Cleaning Twitter URLs\")\n",
    "    tweet_df['text'] = tweet_df['text'].progress_apply(lambda x : remove_twitter_urls(x))\n",
    "    print(\"Step 4 : Converting Emoji To Words\")\n",
    "    tweet_df['text'] = tweet_df['text'].progress_apply(lambda x : emoji_to_word(x))\n",
    "    print(\"Step 5 : Cleaning Emoticons\")\n",
    "    tweet_df['text'] = tweet_df['text'].progress_apply(lambda x : remove_emoticons(x))\n",
    "    print(\"Step 6 : Cleaning Twitter User Mentions\")\n",
    "    tweet_df['text'] = tweet_df['text'].progress_apply(lambda x : remove_user_mentions(x))\n",
    "    print(\"Step 6 : Converting To Lower Case\")\n",
    "    tweet_df['text'] = tweet_df['text'].progress_apply(lambda x : change_to_lowercase(x))\n",
    "\n",
    "    #Get only the file name and remove the extension\n",
    "    fname = str(datfile).split('_')[1]\n",
    "    fname = str(fname).split('.')[0]\n",
    "    tweet_df.to_csv(r'./step_2/s2_'+str(fname)+'.csv')\n",
    "\n",
    "def defineVocabulary(data):\n",
    "    tempStorage = []\n",
    "    with nlp.select_pipes(disable=[\"parser\", \"lemmatizer\",\"spacytextblob\",]):\n",
    "        doc= nlp(data)\n",
    "        for token in doc:\n",
    "            tempStorage.append({token.text,token.pos_})\n",
    "    return tempStorage\n",
    "\n",
    "def removeStopWords(data):    \n",
    "    tempStorage = ast.literal_eval(data)    \n",
    "    # Load stop words\n",
    "    spacy_stopwords = spacy.lang.en.stop_words.STOP_WORDS\n",
    "    # Loop inside text\n",
    "    for x in tempStorage:\n",
    "        if x in spacy_stopwords: tempStorage.remove(x) \n",
    "    return tempStorage\n",
    "\n",
    "def definePolarization(data):   \n",
    "    with nlp.select_pipes(disable=[\"tok2vec\", \"parser\", \"attribute_ruler\", \"lemmatizer\"]):\n",
    "        doc= nlp(data)\n",
    "    return doc._.polarity\n",
    "\n",
    "def defineSubjectivity(data):\n",
    "    with nlp.select_pipes(disable=[\"tok2vec\", \"parser\", \"attribute_ruler\", \"lemmatizer\"]):\n",
    "        doc= nlp(data)\n",
    "    return doc._.subjectivity\n",
    "\n",
    "def defineAssessments(data):\n",
    "    with nlp.select_pipes(disable=[\"tok2vec\", \"parser\", \"attribute_ruler\", \"lemmatizer\"]):\n",
    "        doc= nlp(data)\n",
    "    return doc._.assessments\n",
    "    \n",
    "def emoji_to_word(text):\n",
    "    return emoji.demojize(text, delimiters=(\"\", \"\"))\n",
    "\n",
    "# Tokenize the text in the dataframe\n",
    "def tokenizeText(data):\n",
    "    tempStorage = []\n",
    "    with nlp.select_pipes(disable=[\"tagger\", \"parser\", \"lemmatizer\"]):\n",
    "        doc = nlp(data)\n",
    "        for word in doc:\n",
    "            tempStorage.append(word.text)\n",
    "    return tempStorage\n",
    "\n",
    "def generateWordcloudData(payload):    \n",
    "    \"\"\"\n",
    "      This Function Accepts a pandas dataframe from any step of the processing with the named text column.\n",
    "      payload - pandas dataframe with string text column.\n",
    "    \"\"\"   \n",
    "    \n",
    "    combinedText = \"\"\n",
    "    \n",
    "    textData = payload['text']\n",
    "    textData = pd.DataFrame(textData)\n",
    "    \n",
    "    combinedText = combinedText.join(textData.text)\n",
    "\n",
    "    #image storage\n",
    "    # https://drive.google.com/file/d/14DRvgevx-ffa9BKPztzt3nE9B2TamWhJ/view?usp=sharing\n",
    "    mask = np.array(Image.open(\"./img/cov19.png\")) #jpg also ok\n",
    "    stopwords = set(STOPWORDS)\n",
    "    wordcloud = WordCloud(\n",
    "                            max_font_size = 140,\n",
    "                            width = 2000,\n",
    "                            height = 1000,\n",
    "                            background_color = \"white\",\n",
    "                            mask=mask,\n",
    "                            contour_width = 1,\n",
    "                            stopwords = STOPWORDS)\n",
    "\n",
    "    wordcloud.generate(combinedText)\n",
    "\n",
    "    plt.imshow(wordcloud)#, interpolation='bilinear')\n",
    "    plt.axis(\"off\")\n",
    "    plt.figure()\n",
    "#     plt.imshow(mask)#, cmap=plt.cm.gray, interpolation='bilinear')\n",
    "    plt.axis(\"off\")\n",
    "#     plt.show()\n",
    "    #write to img\n",
    "    image = wordcloud.to_image()\n",
    "    image.show()    \n",
    "    \n",
    "    return plt.show()\n",
    "\n",
    "\n",
    "def generateUniqueWords(data, unique_count=0):\n",
    "\n",
    "    result = Counter(\" \".join(data['text'].values.tolist()).split(\" \")).items()\n",
    "    df2 = pd.DataFrame(result)\n",
    "    df2.columns =['Word', 'Frequency']\n",
    "    df2 = df2[df2.Word != \"\"] #Deletes the empty spaces counted\n",
    "    df2 = df2.sort_values(['Frequency'], ascending=[False]) #Sort dataframe by frequency (Descending)\n",
    "\n",
    "    print('\\033[1mTop '+str(unique_count)+' most unique words used from the dataset\\033[0m \\n')\n",
    "    print(df2.head(int(unique_count)).to_string(index=False)) #Prints the top N unique words used\n",
    "    print(\"\\n\")\n",
    "    df3 = df2.head(int(unique_count))\n",
    "    return df3.plot(y='Frequency', kind='pie', labels=df3['Word'], figsize=(9, 9), autopct='%1.1f%%', title='Top '+str(unique_count)+' most unique words used from the dataset')\n",
    "\n",
    "\n",
    "def defineAffinity(data):\n",
    "    if(data > 0):\n",
    "        return 1\n",
    "    elif(data < 0):\n",
    "        return -1\n",
    "    else:\n",
    "        return 0"
   ]
  },
  {
   "cell_type": "code",
   "execution_count": null,
   "metadata": {},
   "outputs": [],
   "source": [
    "# Create A Sample Dataset to process\n",
    "# createDataSample(datafile =  './complete/20200730.json', sample_count = 100)"
   ]
  },
  {
   "cell_type": "code",
   "execution_count": 4,
   "metadata": {},
   "outputs": [],
   "source": [
    "# Step 0\n",
    "# Specify Raw Tweet Directory\n",
    "tweetDir = './tweets'\n",
    "_, _, filenames = next(os.walk(tweetDir))\n",
    "\n",
    "for file in filenames:\n",
    "    extractTweetText(file)"
   ]
  },
  {
   "cell_type": "code",
   "execution_count": 5,
   "metadata": {
    "scrolled": true
   },
   "outputs": [
    {
     "name": "stdout",
     "output_type": "stream",
     "text": [
      "Step 1 : Cleaning Whitespaces\n"
     ]
    },
    {
     "data": {
      "application/vnd.jupyter.widget-view+json": {
       "model_id": "7ffdef2e2b734fc1b8736e41caf84df9",
       "version_major": 2,
       "version_minor": 0
      },
      "text/plain": [
       "  0%|          | 0/93266 [00:00<?, ?it/s]"
      ]
     },
     "metadata": {},
     "output_type": "display_data"
    },
    {
     "name": "stdout",
     "output_type": "stream",
     "text": [
      "Step 2 : Cleaning URLs\n"
     ]
    },
    {
     "data": {
      "application/vnd.jupyter.widget-view+json": {
       "model_id": "040f5aaa190c4d63b45097d7992b7b3e",
       "version_major": 2,
       "version_minor": 0
      },
      "text/plain": [
       "  0%|          | 0/93266 [00:00<?, ?it/s]"
      ]
     },
     "metadata": {},
     "output_type": "display_data"
    },
    {
     "name": "stdout",
     "output_type": "stream",
     "text": [
      "Step 3 : Cleaning Twitter URLs\n"
     ]
    },
    {
     "data": {
      "application/vnd.jupyter.widget-view+json": {
       "model_id": "ec1d3a2b02b34f9c8a1cb49d3e649630",
       "version_major": 2,
       "version_minor": 0
      },
      "text/plain": [
       "  0%|          | 0/93266 [00:00<?, ?it/s]"
      ]
     },
     "metadata": {},
     "output_type": "display_data"
    },
    {
     "name": "stdout",
     "output_type": "stream",
     "text": [
      "Step 4 : Converting Emoji To Words\n"
     ]
    },
    {
     "data": {
      "application/vnd.jupyter.widget-view+json": {
       "model_id": "f9f5dae50c76480fb930e01a4d4bdb0d",
       "version_major": 2,
       "version_minor": 0
      },
      "text/plain": [
       "  0%|          | 0/93266 [00:00<?, ?it/s]"
      ]
     },
     "metadata": {},
     "output_type": "display_data"
    },
    {
     "name": "stdout",
     "output_type": "stream",
     "text": [
      "Step 5 : Cleaning Emoticons\n"
     ]
    },
    {
     "data": {
      "application/vnd.jupyter.widget-view+json": {
       "model_id": "8223bc1eb17e4874b479956522218936",
       "version_major": 2,
       "version_minor": 0
      },
      "text/plain": [
       "  0%|          | 0/93266 [00:00<?, ?it/s]"
      ]
     },
     "metadata": {},
     "output_type": "display_data"
    },
    {
     "name": "stdout",
     "output_type": "stream",
     "text": [
      "Step 6 : Cleaning Twitter User Mentions\n"
     ]
    },
    {
     "data": {
      "application/vnd.jupyter.widget-view+json": {
       "model_id": "72ffc463af73455fb0b69b919ea9028a",
       "version_major": 2,
       "version_minor": 0
      },
      "text/plain": [
       "  0%|          | 0/93266 [00:00<?, ?it/s]"
      ]
     },
     "metadata": {},
     "output_type": "display_data"
    },
    {
     "name": "stdout",
     "output_type": "stream",
     "text": [
      "Step 6 : Converting To Lower Case\n"
     ]
    },
    {
     "data": {
      "application/vnd.jupyter.widget-view+json": {
       "model_id": "0a87372ecf42458ea4a8dd1ca1f8d533",
       "version_major": 2,
       "version_minor": 0
      },
      "text/plain": [
       "  0%|          | 0/93266 [00:00<?, ?it/s]"
      ]
     },
     "metadata": {},
     "output_type": "display_data"
    },
    {
     "name": "stdout",
     "output_type": "stream",
     "text": [
      "42.44124119999999\n"
     ]
    }
   ],
   "source": [
    "# Step 1\n",
    "#Extract Text of Tweets and Save to CSV file\n",
    "\n",
    "tweetDirS1 = './step_1'\n",
    "_, _, filenames_s1 = next(os.walk(tweetDirS1))\n",
    "\n",
    "for file in filenames_s1:\n",
    "    start = timer()\n",
    "    removeTwitterMeta(file)\n",
    "    end = timer()\n",
    "    print(end - start)"
   ]
  },
  {
   "cell_type": "code",
   "execution_count": 6,
   "metadata": {},
   "outputs": [
    {
     "data": {
      "application/vnd.jupyter.widget-view+json": {
       "model_id": "60ab712b835544fcab25a793107f50b5",
       "version_major": 2,
       "version_minor": 0
      },
      "text/plain": [
       "  0%|          | 0/93266 [00:00<?, ?it/s]"
      ]
     },
     "metadata": {},
     "output_type": "display_data"
    },
    {
     "name": "stdout",
     "output_type": "stream",
     "text": [
      "395.36896459999997\n"
     ]
    }
   ],
   "source": [
    "# Step 2\n",
    "# Get The Files inside the step_2 folder for futher processing\n",
    "tweetDirS2 = './step_2'\n",
    "_, _, filenames_s2 = next(os.walk(tweetDirS2))\n",
    "\n",
    "for file in filenames_s2:\n",
    "    start = timer()    \n",
    "    mydata = pd.read_csv('./step_2/'+file,index_col=False)\n",
    "    del mydata['Unnamed: 0'] \n",
    "    mydata['ttext'] = mydata['text'].progress_apply(lambda x : tokenizeText(x))\n",
    "    \n",
    "    #Get only the file name and remove the extension\n",
    "    fname = str(file).split('_')[1]\n",
    "    fname = str(fname).split('.')[0]\n",
    "    mydata.to_csv(r'./step_3/s3_'+str(fname)+'.csv')\n",
    "    end = timer()\n",
    "    print(end - start)\n"
   ]
  },
  {
   "cell_type": "code",
   "execution_count": 7,
   "metadata": {},
   "outputs": [
    {
     "data": {
      "application/vnd.jupyter.widget-view+json": {
       "model_id": "ab6e894e8aee4210ae734d305b0dd325",
       "version_major": 2,
       "version_minor": 0
      },
      "text/plain": [
       "  0%|          | 0/93266 [00:00<?, ?it/s]"
      ]
     },
     "metadata": {},
     "output_type": "display_data"
    },
    {
     "name": "stdout",
     "output_type": "stream",
     "text": [
      "4.201772500000004\n"
     ]
    }
   ],
   "source": [
    "# Step 3\n",
    "# Get The Files inside the step_3 folder and reduce the connecting words\n",
    "tweetDirS3 = './step_3'\n",
    "_, _, filenames_s3 = next(os.walk(tweetDirS3))\n",
    "\n",
    "for file in filenames_s3:\n",
    "    start = timer()\n",
    "    mydata = pd.read_csv('./step_3/'+file,index_col=False)\n",
    "    del mydata['Unnamed: 0']\n",
    "    mydata['nstop'] = mydata['ttext'].progress_apply(lambda x : removeStopWords(x))\n",
    "    \n",
    "    #Get only the file name and remove the extension\n",
    "    fname = str(file).split('_')[1]\n",
    "    fname = str(fname).split('.')[0]\n",
    "    mydata.to_csv(r'./step_4/s4_'+str(fname)+'.csv')\n",
    "    end = timer()\n",
    "    print(end - start)"
   ]
  },
  {
   "cell_type": "code",
   "execution_count": 8,
   "metadata": {},
   "outputs": [
    {
     "name": "stdout",
     "output_type": "stream",
     "text": [
      "Processing Text Polarization\n"
     ]
    },
    {
     "data": {
      "application/vnd.jupyter.widget-view+json": {
       "model_id": "70b32241882c48a58417cb62f9ad23cd",
       "version_major": 2,
       "version_minor": 0
      },
      "text/plain": [
       "  0%|          | 0/93266 [00:00<?, ?it/s]"
      ]
     },
     "metadata": {},
     "output_type": "display_data"
    },
    {
     "name": "stdout",
     "output_type": "stream",
     "text": [
      "Processing Text Subjectivity\n"
     ]
    },
    {
     "data": {
      "application/vnd.jupyter.widget-view+json": {
       "model_id": "aa75c94f98084c3b99c7a6a719d6963a",
       "version_major": 2,
       "version_minor": 0
      },
      "text/plain": [
       "  0%|          | 0/93266 [00:00<?, ?it/s]"
      ]
     },
     "metadata": {},
     "output_type": "display_data"
    },
    {
     "name": "stdout",
     "output_type": "stream",
     "text": [
      "Processing Text Assessments\n"
     ]
    },
    {
     "data": {
      "application/vnd.jupyter.widget-view+json": {
       "model_id": "e70d4126091e4844b85aa47fb3a79b29",
       "version_major": 2,
       "version_minor": 0
      },
      "text/plain": [
       "  0%|          | 0/93266 [00:00<?, ?it/s]"
      ]
     },
     "metadata": {},
     "output_type": "display_data"
    },
    {
     "name": "stdout",
     "output_type": "stream",
     "text": [
      "821.2196043999999\n"
     ]
    },
    {
     "data": {
      "text/html": [
       "<div>\n",
       "<style scoped>\n",
       "    .dataframe tbody tr th:only-of-type {\n",
       "        vertical-align: middle;\n",
       "    }\n",
       "\n",
       "    .dataframe tbody tr th {\n",
       "        vertical-align: top;\n",
       "    }\n",
       "\n",
       "    .dataframe thead th {\n",
       "        text-align: right;\n",
       "    }\n",
       "</style>\n",
       "<table border=\"1\" class=\"dataframe\">\n",
       "  <thead>\n",
       "    <tr style=\"text-align: right;\">\n",
       "      <th></th>\n",
       "      <th>text</th>\n",
       "      <th>ttext</th>\n",
       "      <th>nstop</th>\n",
       "      <th>polarization</th>\n",
       "      <th>subjectivity</th>\n",
       "      <th>assessment</th>\n",
       "    </tr>\n",
       "  </thead>\n",
       "  <tbody>\n",
       "    <tr>\n",
       "      <th>0</th>\n",
       "      <td>got to confess this is happening quicker tha...</td>\n",
       "      <td>['  ', 'got', 'to', 'confess', 'this', 'is', '...</td>\n",
       "      <td>['  ', 'got', 'confess', 'is', 'happening', 'q...</td>\n",
       "      <td>0.000000</td>\n",
       "      <td>0.000000</td>\n",
       "      <td>[]</td>\n",
       "    </tr>\n",
       "    <tr>\n",
       "      <th>1</th>\n",
       "      <td>don't worry. a grim future awaits dr. fauci ...</td>\n",
       "      <td>['  ', 'do', \"n't\", 'worry', '.', 'a', 'grim',...</td>\n",
       "      <td>['  ', \"n't\", 'worry', '.', 'grim', 'future', ...</td>\n",
       "      <td>-0.333333</td>\n",
       "      <td>0.408333</td>\n",
       "      <td>[([grim], -1.0, 1.0, None), ([future], 0.0, 0....</td>\n",
       "    </tr>\n",
       "    <tr>\n",
       "      <th>2</th>\n",
       "      <td>chonburi covid -19 cases drop to 40 with one n...</td>\n",
       "      <td>['chonburi', 'covid', '-19', 'cases', 'drop', ...</td>\n",
       "      <td>['chonburi', 'covid', '-19', 'cases', 'drop', ...</td>\n",
       "      <td>0.136364</td>\n",
       "      <td>0.454545</td>\n",
       "      <td>[([new], 0.13636363636363635, 0.45454545454545...</td>\n",
       "    </tr>\n",
       "    <tr>\n",
       "      <th>3</th>\n",
       "      <td>face mask real madrid fc blue new by mycompadr...</td>\n",
       "      <td>['face', 'mask', 'real', 'madrid', 'fc', 'blue...</td>\n",
       "      <td>['face', 'mask', 'real', 'madrid', 'fc', 'blue...</td>\n",
       "      <td>0.112121</td>\n",
       "      <td>0.284848</td>\n",
       "      <td>[([real], 0.2, 0.30000000000000004, None), ([b...</td>\n",
       "    </tr>\n",
       "    <tr>\n",
       "      <th>4</th>\n",
       "      <td>coronavirus live updates | decision on extensi...</td>\n",
       "      <td>['coronavirus', 'live', 'updates', '|', 'decis...</td>\n",
       "      <td>['coronavirus', 'live', 'updates', '|', 'decis...</td>\n",
       "      <td>0.136364</td>\n",
       "      <td>0.500000</td>\n",
       "      <td>[([live], 0.13636363636363635, 0.5, None)]</td>\n",
       "    </tr>\n",
       "    <tr>\n",
       "      <th>...</th>\n",
       "      <td>...</td>\n",
       "      <td>...</td>\n",
       "      <td>...</td>\n",
       "      <td>...</td>\n",
       "      <td>...</td>\n",
       "      <td>...</td>\n",
       "    </tr>\n",
       "    <tr>\n",
       "      <th>93261</th>\n",
       "      <td>now this really sucks. maybe get vaccinated br...</td>\n",
       "      <td>['now', 'this', 'really', 'sucks', '.', 'maybe...</td>\n",
       "      <td>['sucks', '.', 'maybe', 'vaccinated', 'bro', '...</td>\n",
       "      <td>0.025000</td>\n",
       "      <td>0.391667</td>\n",
       "      <td>[([really, sucks], -0.3, 0.3, profanity), ([ma...</td>\n",
       "    </tr>\n",
       "    <tr>\n",
       "      <th>93262</th>\n",
       "      <td>india coronavirus cases today 6 june 2021 new ...</td>\n",
       "      <td>['india', 'coronavirus', 'cases', 'today', '6'...</td>\n",
       "      <td>['india', 'coronavirus', 'cases', 'today', '6'...</td>\n",
       "      <td>0.068182</td>\n",
       "      <td>0.227273</td>\n",
       "      <td>[([new], 0.13636363636363635, 0.45454545454545...</td>\n",
       "    </tr>\n",
       "    <tr>\n",
       "      <th>93263</th>\n",
       "      <td>uncomparable to us which cases of covid-19 ov...</td>\n",
       "      <td>[' ', 'uncomparable', 'to', 'us', 'which', 'ca...</td>\n",
       "      <td>[' ', 'uncomparable', 'us', 'cases', 'covid-19...</td>\n",
       "      <td>0.000000</td>\n",
       "      <td>0.000000</td>\n",
       "      <td>[]</td>\n",
       "    </tr>\n",
       "    <tr>\n",
       "      <th>93264</th>\n",
       "      <td>ब्रिज_कोर्स_1जुलाई \\n\\ncovid-19 cases are grad...</td>\n",
       "      <td>['ब्रिज_कोर्स_1जुलाई', '\\n\\n', 'covid-19', 'ca...</td>\n",
       "      <td>['ब्रिज_कोर्स_1जुलाई', '\\n\\n', 'covid-19', 'ca...</td>\n",
       "      <td>-0.155556</td>\n",
       "      <td>0.288889</td>\n",
       "      <td>[([down], -0.15555555555555559, 0.288888888888...</td>\n",
       "    </tr>\n",
       "    <tr>\n",
       "      <th>93265</th>\n",
       "      <td>india registers 1,14,460 new cases in the last...</td>\n",
       "      <td>['india', 'registers', '1,14,460', 'new', 'cas...</td>\n",
       "      <td>['india', 'registers', '1,14,460', 'new', 'cas...</td>\n",
       "      <td>0.212121</td>\n",
       "      <td>0.340404</td>\n",
       "      <td>[([new], 0.13636363636363635, 0.45454545454545...</td>\n",
       "    </tr>\n",
       "  </tbody>\n",
       "</table>\n",
       "<p>93266 rows × 6 columns</p>\n",
       "</div>"
      ],
      "text/plain": [
       "                                                    text  \\\n",
       "0        got to confess this is happening quicker tha...   \n",
       "1        don't worry. a grim future awaits dr. fauci ...   \n",
       "2      chonburi covid -19 cases drop to 40 with one n...   \n",
       "3      face mask real madrid fc blue new by mycompadr...   \n",
       "4      coronavirus live updates | decision on extensi...   \n",
       "...                                                  ...   \n",
       "93261  now this really sucks. maybe get vaccinated br...   \n",
       "93262  india coronavirus cases today 6 june 2021 new ...   \n",
       "93263   uncomparable to us which cases of covid-19 ov...   \n",
       "93264  ब्रिज_कोर्स_1जुलाई \\n\\ncovid-19 cases are grad...   \n",
       "93265  india registers 1,14,460 new cases in the last...   \n",
       "\n",
       "                                                   ttext  \\\n",
       "0      ['  ', 'got', 'to', 'confess', 'this', 'is', '...   \n",
       "1      ['  ', 'do', \"n't\", 'worry', '.', 'a', 'grim',...   \n",
       "2      ['chonburi', 'covid', '-19', 'cases', 'drop', ...   \n",
       "3      ['face', 'mask', 'real', 'madrid', 'fc', 'blue...   \n",
       "4      ['coronavirus', 'live', 'updates', '|', 'decis...   \n",
       "...                                                  ...   \n",
       "93261  ['now', 'this', 'really', 'sucks', '.', 'maybe...   \n",
       "93262  ['india', 'coronavirus', 'cases', 'today', '6'...   \n",
       "93263  [' ', 'uncomparable', 'to', 'us', 'which', 'ca...   \n",
       "93264  ['ब्रिज_कोर्स_1जुलाई', '\\n\\n', 'covid-19', 'ca...   \n",
       "93265  ['india', 'registers', '1,14,460', 'new', 'cas...   \n",
       "\n",
       "                                                   nstop  polarization  \\\n",
       "0      ['  ', 'got', 'confess', 'is', 'happening', 'q...      0.000000   \n",
       "1      ['  ', \"n't\", 'worry', '.', 'grim', 'future', ...     -0.333333   \n",
       "2      ['chonburi', 'covid', '-19', 'cases', 'drop', ...      0.136364   \n",
       "3      ['face', 'mask', 'real', 'madrid', 'fc', 'blue...      0.112121   \n",
       "4      ['coronavirus', 'live', 'updates', '|', 'decis...      0.136364   \n",
       "...                                                  ...           ...   \n",
       "93261  ['sucks', '.', 'maybe', 'vaccinated', 'bro', '...      0.025000   \n",
       "93262  ['india', 'coronavirus', 'cases', 'today', '6'...      0.068182   \n",
       "93263  [' ', 'uncomparable', 'us', 'cases', 'covid-19...      0.000000   \n",
       "93264  ['ब्रिज_कोर्स_1जुलाई', '\\n\\n', 'covid-19', 'ca...     -0.155556   \n",
       "93265  ['india', 'registers', '1,14,460', 'new', 'cas...      0.212121   \n",
       "\n",
       "       subjectivity                                         assessment  \n",
       "0          0.000000                                                 []  \n",
       "1          0.408333  [([grim], -1.0, 1.0, None), ([future], 0.0, 0....  \n",
       "2          0.454545  [([new], 0.13636363636363635, 0.45454545454545...  \n",
       "3          0.284848  [([real], 0.2, 0.30000000000000004, None), ([b...  \n",
       "4          0.500000         [([live], 0.13636363636363635, 0.5, None)]  \n",
       "...             ...                                                ...  \n",
       "93261      0.391667  [([really, sucks], -0.3, 0.3, profanity), ([ma...  \n",
       "93262      0.227273  [([new], 0.13636363636363635, 0.45454545454545...  \n",
       "93263      0.000000                                                 []  \n",
       "93264      0.288889  [([down], -0.15555555555555559, 0.288888888888...  \n",
       "93265      0.340404  [([new], 0.13636363636363635, 0.45454545454545...  \n",
       "\n",
       "[93266 rows x 6 columns]"
      ]
     },
     "execution_count": 8,
     "metadata": {},
     "output_type": "execute_result"
    }
   ],
   "source": [
    "# Step 4\n",
    "# Get The Files inside the step_5 folder add column for polarity, assessment and subjectivity\n",
    "\n",
    "tweetDirS4 = './step_4'\n",
    "_, _, filenames_s4 = next(os.walk(tweetDirS4))\n",
    "\n",
    "for file in filenames_s4:\n",
    "    start = timer()\n",
    "    mydata = pd.read_csv('./step_4/'+file,index_col=False)\n",
    "    del mydata['Unnamed: 0'] \n",
    "    print(\"Processing Text Polarization\")\n",
    "    mydata['polarization'] = mydata['text'].progress_apply(lambda x : definePolarization(x))\n",
    "    print(\"Processing Text Subjectivity\")\n",
    "    mydata['subjectivity'] = mydata['text'].progress_apply(lambda x : defineSubjectivity(x))\n",
    "    print(\"Processing Text Assessments\")\n",
    "    mydata['assessment'] = mydata['text'].progress_apply(lambda x : defineAssessments(x))\n",
    "    \n",
    "    #Get only the file name and remove the extension\n",
    "    fname = str(file).split('_')[1]\n",
    "    fname = str(fname).split('.')[0]\n",
    "    mydata.to_csv(r'./step_5/s5_'+str(fname)+'.csv')\n",
    "    end = timer()\n",
    "    print(end - start)\n",
    "# Seperate wordscore in 3 seperate columns\n",
    "mydata"
   ]
  },
  {
   "cell_type": "code",
   "execution_count": 9,
   "metadata": {},
   "outputs": [
    {
     "data": {
      "application/vnd.jupyter.widget-view+json": {
       "model_id": "0efdc55da82b4f6eaa9536da92aa7bbf",
       "version_major": 2,
       "version_minor": 0
      },
      "text/plain": [
       "  0%|          | 0/93266 [00:00<?, ?it/s]"
      ]
     },
     "metadata": {},
     "output_type": "display_data"
    },
    {
     "name": "stdout",
     "output_type": "stream",
     "text": [
      "394.4177617\n"
     ]
    }
   ],
   "source": [
    "# Step 5 \n",
    "# Get The Files inside the step_4 folder check\n",
    "\n",
    "tweetDirS5 = './step_5'\n",
    "_, _, filenames_s5 = next(os.walk(tweetDirS5))\n",
    "\n",
    "for file in filenames_s5:\n",
    "    start = timer()\n",
    "    mydata = pd.read_csv('./step_5/'+file,index_col=False)\n",
    "    del mydata['Unnamed: 0'] \n",
    "    processingFrame = mydata['text'].copy()\n",
    "    processingFrame = pd.DataFrame(processingFrame)\n",
    "    processingFrame['wordDef'] = processingFrame['text'].progress_apply(lambda x : defineVocabulary(x))\n",
    "    mydata['wordDef'] = processingFrame['wordDef'].copy()\n",
    "    #Get only the file name and remove the extension\n",
    "    fname = str(file).split('_')[1]\n",
    "    fname = str(fname).split('.')[0]\n",
    "    mydata.to_csv(r'./step_6/s6_'+str(fname)+'.csv')\n",
    "    end = timer()\n",
    "    print(end - start)"
   ]
  },
  {
   "cell_type": "code",
   "execution_count": 10,
   "metadata": {},
   "outputs": [
    {
     "data": {
      "application/vnd.jupyter.widget-view+json": {
       "model_id": "967ee8b44def409b948171c972452c02",
       "version_major": 2,
       "version_minor": 0
      },
      "text/plain": [
       "  0%|          | 0/93266 [00:00<?, ?it/s]"
      ]
     },
     "metadata": {},
     "output_type": "display_data"
    },
    {
     "name": "stdout",
     "output_type": "stream",
     "text": [
      "2.572936000000027\n"
     ]
    }
   ],
   "source": [
    "# Step 6\n",
    "# Provide a Magnetization Indicator if positive or negative\n",
    "\n",
    "tweetDirS6 = './step_6'\n",
    "_, _, filenames_s6 = next(os.walk(tweetDirS6))\n",
    "\n",
    "for file in filenames_s6:\n",
    "    start = timer()\n",
    "    mydata = pd.read_csv('./step_6/'+file,index_col=False)\n",
    "    del mydata['Unnamed: 0'] \n",
    "    processingFrame = mydata['polarization'].copy()\n",
    "    processingFrame = pd.DataFrame(processingFrame)\n",
    "    processingFrame['tMag'] = processingFrame['polarization'].progress_apply(lambda x : defineAffinity(x))\n",
    "    mydata['tMag'] = processingFrame['tMag'].copy()\n",
    "    #Get only the file name and remove the extension\n",
    "    fname = str(file).split('_')[1]\n",
    "    fname = str(fname).split('.')[0]\n",
    "    mydata.to_csv(r'./step_7/s7_'+str(fname)+'.csv')\n",
    "    end = timer()\n",
    "    print(end - start)"
   ]
  },
  {
   "cell_type": "markdown",
   "metadata": {},
   "source": [
    "## Load the Processed Datasets in a Dataframe"
   ]
  },
  {
   "cell_type": "code",
   "execution_count": 12,
   "metadata": {},
   "outputs": [],
   "source": [
    "# Load Data\n",
    "data_1 = pd.read_csv('./processed/s7_20200730.csv',index_col=False)\n",
    "data_2 = pd.read_csv('./processed/s7_20200916.csv',index_col=False)\n",
    "data_3 = pd.read_csv('./processed/s7_20201231.csv',index_col=False)\n",
    "data_4 = pd.read_csv('./processed/s7_20210216.csv',index_col=False)\n",
    "data_5 = pd.read_csv('./processed/s7_20210510.csv',index_col=False)\n",
    "data_6 = pd.read_csv('./processed/s7_20210605.csv',index_col=False)\n"
   ]
  },
  {
   "cell_type": "markdown",
   "metadata": {},
   "source": [
    "### Exploratory Data Findings"
   ]
  },
  {
   "cell_type": "code",
   "execution_count": 18,
   "metadata": {},
   "outputs": [],
   "source": [
    "# Initialize Storage\n",
    "\n",
    "myDataCounter = []\n",
    "\n",
    "positive_1 = (data_1.tMag == 1).sum()\n",
    "negative_1 = (data_1.tMag == -1).sum()\n",
    "neutral_1 = (data_1.tMag == 0).sum()\n",
    "\n",
    "positive_2 = (data_2.tMag == 1).sum()\n",
    "negative_2 = (data_2.tMag == -1).sum()\n",
    "neutral_2 = (data_2.tMag == 0).sum()\n",
    "\n",
    "positive_3 = (data_3.tMag == 1).sum()\n",
    "negative_3 = (data_3.tMag == -1).sum()\n",
    "neutral_3 = (data_3.tMag == 0).sum()\n",
    "\n",
    "positive_4 = (data_4.tMag == 1).sum()\n",
    "negative_4 = (data_4.tMag == -1).sum()\n",
    "neutral_4 = (data_4.tMag == 0).sum()\n",
    "\n",
    "positive_5 = (data_5.tMag == 1).sum()\n",
    "negative_5 = (data_5.tMag == -1).sum()\n",
    "neutral_5 = (data_5.tMag == 0).sum()\n",
    "\n",
    "positive_6 = (data_6.tMag == 1).sum()\n",
    "negative_6 = (data_6.tMag == -1).sum()\n",
    "neutral_6 = (data_6.tMag == 0).sum()\n",
    "\n",
    "myDataCounter.append({\"positive\":positive_1/len(data_1),\"negative\":negative_1/len(data_1),\"neutral\":neutral_1/len(data_1)})\n",
    "myDataCounter.append({\"positive\":positive_2/len(data_2),\"negative\":negative_2/len(data_2),\"neutral\":neutral_2/len(data_2)})\n",
    "myDataCounter.append({\"positive\":positive_3/len(data_3),\"negative\":negative_3/len(data_3),\"neutral\":neutral_3/len(data_3)})\n",
    "myDataCounter.append({\"positive\":positive_4/len(data_4),\"negative\":negative_4/len(data_4),\"neutral\":neutral_4/len(data_4)})\n",
    "myDataCounter.append({\"positive\":positive_5/len(data_5),\"negative\":negative_5/len(data_5),\"neutral\":neutral_5/len(data_5)})\n",
    "myDataCounter.append({\"positive\":positive_6/len(data_6),\"negative\":negative_6/len(data_6),\"neutral\":neutral_6/len(data_6)})\n",
    "\n",
    "myVis = pd.DataFrame(myDataCounter,index=['2020-07-30', '2020-09-16', '2020-12-31','2021-02-16','2021-05-10','2021-06-05'])\n"
   ]
  },
  {
   "cell_type": "code",
   "execution_count": 19,
   "metadata": {},
   "outputs": [
    {
     "data": {
      "image/png": "[encoded data removed]",
      "text/plain": [
       "<Figure size 432x288 with 1 Axes>"
      ]
     },
     "metadata": {},
     "output_type": "display_data"
    }
   ],
   "source": [
    "import seaborn as sns\n",
    "\n",
    "sns.set_theme(style=\"whitegrid\")\n",
    "plt.plot(myVis['positive'], label = \"Positive\")\n",
    "plt.plot(myVis['negative'], label = \"Negative\")\n",
    "plt.plot(myVis['neutral'], label = \"Neutral\")\n",
    "plt.title('Sentiment Magnetization Over Time')\n",
    "plt.xlabel('Timeline')\n",
    "plt.ylabel('Affinity Magnetization')\n",
    "plt.legend()\n",
    "plt.show()"
   ]
  },
  {
   "cell_type": "code",
   "execution_count": 26,
   "metadata": {},
   "outputs": [
    {
     "data": {
      "image/png": "[encoded data removed]",
      "text/plain": [
       "<Figure size 432x288 with 1 Axes>"
      ]
     },
     "metadata": {},
     "output_type": "display_data"
    }
   ],
   "source": [
    "ax= myVis.plot.bar()\n",
    "plt.title('Sentiment Magnetization Over Time')\n",
    "plt.xlabel('Timeline')\n",
    "plt.ylabel('Affinity Magnetization')\n",
    "plt.legend()\n",
    "plt.show()"
   ]
  },
  {
   "cell_type": "code",
   "execution_count": null,
   "metadata": {},
   "outputs": [],
   "source": []
  },
  {
   "cell_type": "code",
   "execution_count": null,
   "metadata": {},
   "outputs": [],
   "source": []
  },
  {
   "cell_type": "code",
   "execution_count": null,
   "metadata": {},
   "outputs": [],
   "source": []
  },
  {
   "cell_type": "code",
   "execution_count": null,
   "metadata": {},
   "outputs": [],
   "source": []
  },
  {
   "cell_type": "code",
   "execution_count": null,
   "metadata": {},
   "outputs": [],
   "source": []
  },
  {
   "cell_type": "code",
   "execution_count": null,
   "metadata": {},
   "outputs": [],
   "source": []
  },
  {
   "cell_type": "code",
   "execution_count": null,
   "metadata": {},
   "outputs": [],
   "source": [
    "\n"
   ]
  },
  {
   "cell_type": "code",
   "execution_count": null,
   "metadata": {},
   "outputs": [],
   "source": []
  },
  {
   "cell_type": "code",
   "execution_count": null,
   "metadata": {},
   "outputs": [],
   "source": [
    "\n",
    "    "
   ]
  }
 ],
 "metadata": {
  "kernelspec": {
   "display_name": "Python 3",
   "language": "python",
   "name": "python3"
  },
  "language_info": {
   "codemirror_mode": {
    "name": "ipython",
    "version": 3
   },
   "file_extension": ".py",
   "mimetype": "text/x-python",
   "name": "python",
   "nbconvert_exporter": "python",
   "pygments_lexer": "ipython3",
   "version": "3.8.8"
  }
 },
 "nbformat": 4,
 "nbformat_minor": 4
}
