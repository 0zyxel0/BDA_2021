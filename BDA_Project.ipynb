{
 "cells": [
  {
   "cell_type": "markdown",
   "metadata": {},
   "source": [
    "## Install Libraries to be used\n",
    "- !pip install -U pip setuptools wheel\n",
    "- !pip install -U spacy\n",
    "- !python -m spacy download en_core_web_sm\n",
    "- !pip install emot --upgrade\n",
    "- !pip install emoji --upgrade"
   ]
  },
  {
   "cell_type": "markdown",
   "metadata": {},
   "source": [
    "## Importing Libraries that will be used"
   ]
  },
  {
   "cell_type": "code",
   "execution_count": 1,
   "metadata": {},
   "outputs": [],
   "source": [
    "import ast\n",
    "import json\n",
    "import random \n",
    "import pandas as pd\n",
    "from collections import Counter\n",
    "import matplotlib.pyplot as plt\n",
    "import re\n",
    "from emot.emo_unicode import UNICODE_EMO, EMOTICONS\n",
    "import emoji\n",
    "import spacy\n",
    "from os import walk\n",
    "from nltk.tokenize import word_tokenize\n",
    "\n",
    "\n",
    "# Load the fields list\n",
    "import fields\n",
    "fieldsFilter = fields.fields\n",
    "\n",
    "# Declare Spacy NLP Module\n",
    "# Load English tokenizer, tagger, parser and NER\n",
    "nlp = spacy.load(\"en_core_web_sm\")\n",
    "\n"
   ]
  },
  {
   "cell_type": "markdown",
   "metadata": {},
   "source": [
    "Creat a small sample data"
   ]
  },
  {
   "cell_type": "code",
   "execution_count": null,
   "metadata": {},
   "outputs": [],
   "source": [
    "no_samples = \"200\"\n",
    "list_tweets = None\n",
    "\n",
    "with open(\"./tweets/20200916.json\", \"r\") as myfile:\n",
    "    list_tweets = list(myfile)\n",
    "\n",
    "if int(no_samples) > len(list_tweets):\n",
    "    no_samples = len(list_tweets)\n",
    "\n",
    "sample = random.sample(list_tweets, int(no_samples))\n",
    "\n",
    "file = open(\"sample_data.json\", \"w\")\n",
    "for i in sample:\n",
    "  file.write(i)\n",
    "file.close() #This close() is important"
   ]
  },
  {
   "cell_type": "markdown",
   "metadata": {},
   "source": [
    "Processing functions"
   ]
  },
  {
   "cell_type": "code",
   "execution_count": null,
   "metadata": {
    "scrolled": true
   },
   "outputs": [],
   "source": [
    "no_top_unique_words = \"50\" #@param {type:\"string\"}\n",
    "\n",
    "result = Counter(\" \".join(tweet_df['text'].values.tolist()).split(\" \")).items()\n",
    "df2 = pd.DataFrame(result)\n",
    "df2.columns =['Word', 'Frequency']\n",
    "df2 = df2[df2.Word != \"\"] #Deletes the empty spaces counted\n",
    "df2 = df2.sort_values(['Frequency'], ascending=[False]) #Sort dataframe by frequency (Descending)\n",
    "\n",
    "print('\\033[1mTop '+no_top_unique_words+' most unique words used from the dataset\\033[0m \\n')\n",
    "print(df2.head(int(no_top_unique_words)).to_string(index=False)) #Prints the top N unique words used\n",
    "print(\"\\n\")\n",
    "df3 = df2.head(int(no_top_unique_words))\n",
    "df3.plot(y='Frequency', kind='pie', labels=df3['Word'], figsize=(9, 9), autopct='%1.1f%%', title='Top '+no_top_unique_words+' most unique words used from the dataset')"
   ]
  },
  {
   "cell_type": "code",
   "execution_count": null,
   "metadata": {},
   "outputs": [],
   "source": [
    "complete_tweets = []\n",
    "with open('./tweets/sample_data.json', 'r') as f:\n",
    "    for line in f:\n",
    "        complete_tweets.append(json.loads(line))   "
   ]
  },
  {
   "cell_type": "code",
   "execution_count": null,
   "metadata": {},
   "outputs": [],
   "source": [
    "datfile = 's1_sa_dsaf'\n",
    "fname = str(datfile).split('_')[1]\n",
    "fname"
   ]
  },
  {
   "cell_type": "code",
   "execution_count": 2,
   "metadata": {},
   "outputs": [],
   "source": [
    "# CLEANING  FUNCTIONS\n",
    "\n",
    "def remove_emoticons(text):\n",
    "    emoticon_pattern = re.compile(u'(' + u'|'.join(k for k in EMOTICONS) + u')')\n",
    "    return emoticon_pattern.sub(r'', text)\n",
    "\n",
    "def remove_emoji(text):\n",
    "    emoji_pattern = re.compile(\"[\"\n",
    "                           u\"\\U0001F600-\\U0001F64F\"  # emoticons\n",
    "                           u\"\\U0001F300-\\U0001F5FF\"  # symbols & pictographs\n",
    "                           u\"\\U0001F680-\\U0001F6FF\"  # transport & map symbols\n",
    "                           u\"\\U0001F1E0-\\U0001F1FF\"  # flags (iOS)\n",
    "                           u\"\\U00002702-\\U000027B0\"\n",
    "                           u\"\\U000024C2-\\U0001F251\"\n",
    "                           \"]+\", flags=re.UNICODE)\n",
    "    return emoji_pattern.sub(r'', text)\n",
    "\n",
    "def remove_urls(text):\n",
    "    result = re.sub(r\"http\\S+\", \"\", text)\n",
    "    return(result)\n",
    "\n",
    "def remove_twitter_urls(text):\n",
    "    clean = re.sub(r\"pic.twitter\\S+\", \"\",text)\n",
    "    return(clean)\n",
    "\n",
    "def give_emoji_free_text(text):\n",
    "    return emoji.get_emoji_regexp().sub(r'', text)\n",
    "\n",
    "def remove_user_mentions(text):\n",
    "    clean_tweet = re.sub(\"@[A-Za-z0-9_]+\",\"\", text)\n",
    "    clean_tweet = re.sub(\"#[A-Za-z0-9_]+\",\"\", clean_tweet)\n",
    "    return clean_tweet\n",
    "\n",
    "def change_to_lowercase(text):\n",
    "    return text.lower()    \n",
    "\n",
    "# def remove_connecting_words(text):    \n",
    "#     clean_tweet = re.sub('\\s+(a|an|and|the|is|from|as|our|it|in|the|i|by|at|to|of|or|he|on|be|this|up|so|are|has|if|was|for|we)(\\s+)', '\\2', text)\n",
    "#     return clean_tweet\n",
    "\n",
    "def remove_returnchar(text):\n",
    "    clean_tweet = text.replace('\\r','')\n",
    "    return clean_tweet\n",
    "\n",
    "def remove_newlines(text):\n",
    "    clean_tweet = text.replace('\\n','')\n",
    "    return clean_tweet\n",
    "\n"
   ]
  },
  {
   "cell_type": "code",
   "execution_count": 3,
   "metadata": {},
   "outputs": [],
   "source": [
    "def extractTweetText(datfile):\n",
    "    \n",
    "    #Initialize Temporary Array Storage\n",
    "    tempStorage = []\n",
    "\n",
    "    #Parse Json to a temporary storage\n",
    "    with open('./tweets/'+datfile, 'r') as f:\n",
    "        for line in f:\n",
    "            tempStorage.append(json.loads(line))\n",
    "\n",
    "    # Convert Array to a Pandas Data Frame\n",
    "    tempFrame = pd.DataFrame(tempStorage)\n",
    "    \n",
    "    # Drop all columns except for text column\n",
    "    tempFrame = tempFrame[['text']]\n",
    "    \n",
    "    #Get only the file name and remove the extension\n",
    "    fname = str(datfile).split('.')[0]\n",
    "    \n",
    "    #Save dataframe to csv\n",
    "    tempFrame.to_csv(r'./step_1/s1_'+str(fname)+'.csv')"
   ]
  },
  {
   "cell_type": "code",
   "execution_count": 4,
   "metadata": {},
   "outputs": [],
   "source": [
    "# Clean and process tweet text by removing URL, EMOJI and User Mentions\n",
    "def removeTwitterMeta(datfile):    \n",
    "    tweet_df = pd.read_csv('./step_1/'+str(datfile),index_col=False) \n",
    "    #Replace the spaces and enters\n",
    "    tweet_df = tweet_df.loc[:, tweet_df.columns.isin(fieldsFilter)]\n",
    "    tweet_df['text'] = tweet_df['text'].apply(lambda x : remove_newlines(x))\n",
    "    tweet_df['text'] = tweet_df['text'].apply(lambda x : remove_returnchar(x))\n",
    "    tweet_df['text'] = tweet_df['text'].apply(lambda x : remove_urls(x))\n",
    "    tweet_df['text'] = tweet_df['text'].apply(lambda x : remove_twitter_urls(x))\n",
    "    tweet_df['text'] = tweet_df['text'].apply(lambda x : remove_emoticons(x))\n",
    "    tweet_df['text'] = tweet_df['text'].apply(lambda x : remove_emoji(x))\n",
    "    tweet_df['text'] = tweet_df['text'].apply(lambda x : give_emoji_free_text(x))\n",
    "    tweet_df['text'] = tweet_df['text'].apply(lambda x : remove_user_mentions(x))\n",
    "    tweet_df['text'] = tweet_df['text'].apply(lambda x : change_to_lowercase(x))\n",
    "\n",
    "    #Get only the file name and remove the extension\n",
    "    fname = str(datfile).split('_')[1]\n",
    "    fname = str(fname).split('.')[0]\n",
    "    tweet_df.to_csv(r'./step_2/s2_'+str(fname)+'.csv')\n"
   ]
  },
  {
   "cell_type": "code",
   "execution_count": 5,
   "metadata": {},
   "outputs": [],
   "source": [
    "# Tokenize the text in the dataframe\n",
    "def tokenizeText(data):\n",
    "    tempStorage = []\n",
    "    doc = nlp(data)\n",
    "    for token in doc:\n",
    "#         tempStorage.append({token.text,token.pos_})\n",
    "          tempStorage.append(token.text)\n",
    "    return tempStorage"
   ]
  },
  {
   "cell_type": "code",
   "execution_count": null,
   "metadata": {},
   "outputs": [],
   "source": [
    "# Lemmatization\n",
    "# Convert the words to root words\n",
    "def lemmatizeText(data):\n",
    "    "
   ]
  },
  {
   "cell_type": "code",
   "execution_count": 6,
   "metadata": {},
   "outputs": [],
   "source": [
    "def removeStopWords(data):    \n",
    "    tempStorage = ast.literal_eval(data)    \n",
    "    # Load stop words\n",
    "    spacy_stopwords = spacy.lang.en.stop_words.STOP_WORDS\n",
    "    # Loop inside text\n",
    "    for x in tempStorage:\n",
    "        if x in spacy_stopwords: tempStorage.remove(x) \n",
    "    return tempStorage"
   ]
  },
  {
   "cell_type": "code",
   "execution_count": 7,
   "metadata": {},
   "outputs": [],
   "source": [
    "# Step 0\n",
    "# Specify Raw Tweet Directory\n",
    "tweetDir = './tweets'\n",
    "_, _, filenames = next(walk(tweetDir))\n",
    "\n",
    "for file in filenames:\n",
    "    extractTweetText(file)"
   ]
  },
  {
   "cell_type": "code",
   "execution_count": 8,
   "metadata": {
    "scrolled": true
   },
   "outputs": [],
   "source": [
    "# Step 1\n",
    "#Extract Text of Tweets and Save to CSV file\n",
    "\n",
    "tweetDirS1 = './step_1'\n",
    "_, _, filenames_s1 = next(walk(tweetDirS1))\n",
    "\n",
    "for file in filenames_s1:\n",
    "    removeTwitterMeta(file)"
   ]
  },
  {
   "cell_type": "code",
   "execution_count": 9,
   "metadata": {},
   "outputs": [],
   "source": [
    "# Step 2\n",
    "# Get The Files inside the step_2 folder for futher processing\n",
    "tweetDirS2 = './step_2'\n",
    "_, _, filenames_s2 = next(walk(tweetDirS2))\n",
    "\n",
    "for file in filenames_s2:\n",
    "    mydata = pd.read_csv('./step_2/'+file,index_col=False)\n",
    "    del mydata['Unnamed: 0'] \n",
    "    mydata['ttext'] = mydata['text'].apply(lambda x : tokenizeText(x))\n",
    "    \n",
    "    #Get only the file name and remove the extension\n",
    "    fname = str(file).split('_')[1]\n",
    "    fname = str(fname).split('.')[0]\n",
    "    mydata.to_csv(r'./step_3/s3_'+str(fname)+'.csv')\n"
   ]
  },
  {
   "cell_type": "code",
   "execution_count": 10,
   "metadata": {},
   "outputs": [],
   "source": [
    "# Step 3\n",
    "# Get The Files inside the step_3 folder and reduce the connecting words\n",
    "tweetDirS3 = './step_3'\n",
    "_, _, filenames_s3 = next(walk(tweetDirS3))\n",
    "\n",
    "for file in filenames_s3:\n",
    "    mydata = pd.read_csv('./step_3/'+file,index_col=False)\n",
    "    del mydata['Unnamed: 0']\n",
    "    mydata['nstop'] = mydata['ttext'].apply(lambda x : removeStopWords(x))\n",
    "    \n",
    "    #Get only the file name and remove the extension\n",
    "    fname = str(file).split('_')[1]\n",
    "    fname = str(fname).split('.')[0]\n",
    "    mydata.to_csv(r'./step_4/s4_'+str(fname)+'.csv')"
   ]
  },
  {
   "cell_type": "code",
   "execution_count": 12,
   "metadata": {},
   "outputs": [
    {
     "data": {
      "text/html": [
       "<div>\n",
       "<style scoped>\n",
       "    .dataframe tbody tr th:only-of-type {\n",
       "        vertical-align: middle;\n",
       "    }\n",
       "\n",
       "    .dataframe tbody tr th {\n",
       "        vertical-align: top;\n",
       "    }\n",
       "\n",
       "    .dataframe thead th {\n",
       "        text-align: right;\n",
       "    }\n",
       "</style>\n",
       "<table border=\"1\" class=\"dataframe\">\n",
       "  <thead>\n",
       "    <tr style=\"text-align: right;\">\n",
       "      <th></th>\n",
       "      <th>text</th>\n",
       "      <th>ttext</th>\n",
       "      <th>nstop</th>\n",
       "    </tr>\n",
       "  </thead>\n",
       "  <tbody>\n",
       "    <tr>\n",
       "      <th>0</th>\n",
       "      <td>so all you that say trump never downplayed cov...</td>\n",
       "      <td>['so', 'all', 'you', 'that', 'say', 'trump', '...</td>\n",
       "      <td>['all', 'that', 'trump', 'downplayed', 'covid1...</td>\n",
       "    </tr>\n",
       "    <tr>\n",
       "      <th>1</th>\n",
       "      <td>coronavirus: yorkshire quartet out of t20 blas...</td>\n",
       "      <td>['coronavirus', ':', 'yorkshire', 'quartet', '...</td>\n",
       "      <td>['coronavirus', ':', 'yorkshire', 'quartet', '...</td>\n",
       "    </tr>\n",
       "    <tr>\n",
       "      <th>2</th>\n",
       "      <td>cdc: almost all of the us kids and teens who'v...</td>\n",
       "      <td>['cdc', ':', 'almost', 'all', 'of', 'the', 'us...</td>\n",
       "      <td>['cdc', ':', 'all', 'the', 'kids', 'teens', \"'...</td>\n",
       "    </tr>\n",
       "    <tr>\n",
       "      <th>3</th>\n",
       "      <td>fellow south africans must one day tell ukuthi...</td>\n",
       "      <td>['fellow', 'south', 'africans', 'must', 'one',...</td>\n",
       "      <td>['fellow', 'south', 'africans', 'one', 'day', ...</td>\n",
       "    </tr>\n",
       "    <tr>\n",
       "      <th>4</th>\n",
       "      <td>ahmedabad adds 165 covid-19 cases, taking tall...</td>\n",
       "      <td>['ahmedabad', 'adds', '165', 'covid-19', 'case...</td>\n",
       "      <td>['ahmedabad', 'adds', '165', 'covid-19', 'case...</td>\n",
       "    </tr>\n",
       "    <tr>\n",
       "      <th>...</th>\n",
       "      <td>...</td>\n",
       "      <td>...</td>\n",
       "      <td>...</td>\n",
       "    </tr>\n",
       "    <tr>\n",
       "      <th>195</th>\n",
       "      <td>but the riverton fancy car gathering and the c...</td>\n",
       "      <td>['but', 'the', 'riverton', 'fancy', 'car', 'ga...</td>\n",
       "      <td>['the', 'riverton', 'fancy', 'car', 'gathering...</td>\n",
       "    </tr>\n",
       "    <tr>\n",
       "      <th>196</th>\n",
       "      <td>the majority of children who die from covid-19...</td>\n",
       "      <td>['the', 'majority', 'of', 'children', 'who', '...</td>\n",
       "      <td>['majority', 'children', 'die', 'covid-19', 'c...</td>\n",
       "    </tr>\n",
       "    <tr>\n",
       "      <th>197</th>\n",
       "      <td>oh god.</td>\n",
       "      <td>['oh', 'god', '.']</td>\n",
       "      <td>['oh', 'god', '.']</td>\n",
       "    </tr>\n",
       "    <tr>\n",
       "      <th>198</th>\n",
       "      <td>one of the challenges the us faces during the...</td>\n",
       "      <td>[' ', 'one', 'of', 'the', 'challenges', 'the',...</td>\n",
       "      <td>[' ', 'of', 'challenges', 'us', 'faces', 'the'...</td>\n",
       "    </tr>\n",
       "    <tr>\n",
       "      <th>199</th>\n",
       "      <td>meant to be going away golfing next week for a...</td>\n",
       "      <td>['meant', 'to', 'be', 'going', 'away', 'golfin...</td>\n",
       "      <td>['meant', 'be', 'going', 'away', 'golfing', 'w...</td>\n",
       "    </tr>\n",
       "  </tbody>\n",
       "</table>\n",
       "<p>200 rows × 3 columns</p>\n",
       "</div>"
      ],
      "text/plain": [
       "                                                  text  \\\n",
       "0    so all you that say trump never downplayed cov...   \n",
       "1    coronavirus: yorkshire quartet out of t20 blas...   \n",
       "2    cdc: almost all of the us kids and teens who'v...   \n",
       "3    fellow south africans must one day tell ukuthi...   \n",
       "4    ahmedabad adds 165 covid-19 cases, taking tall...   \n",
       "..                                                 ...   \n",
       "195  but the riverton fancy car gathering and the c...   \n",
       "196  the majority of children who die from covid-19...   \n",
       "197                                           oh god.    \n",
       "198   one of the challenges the us faces during the...   \n",
       "199  meant to be going away golfing next week for a...   \n",
       "\n",
       "                                                 ttext  \\\n",
       "0    ['so', 'all', 'you', 'that', 'say', 'trump', '...   \n",
       "1    ['coronavirus', ':', 'yorkshire', 'quartet', '...   \n",
       "2    ['cdc', ':', 'almost', 'all', 'of', 'the', 'us...   \n",
       "3    ['fellow', 'south', 'africans', 'must', 'one',...   \n",
       "4    ['ahmedabad', 'adds', '165', 'covid-19', 'case...   \n",
       "..                                                 ...   \n",
       "195  ['but', 'the', 'riverton', 'fancy', 'car', 'ga...   \n",
       "196  ['the', 'majority', 'of', 'children', 'who', '...   \n",
       "197                                 ['oh', 'god', '.']   \n",
       "198  [' ', 'one', 'of', 'the', 'challenges', 'the',...   \n",
       "199  ['meant', 'to', 'be', 'going', 'away', 'golfin...   \n",
       "\n",
       "                                                 nstop  \n",
       "0    ['all', 'that', 'trump', 'downplayed', 'covid1...  \n",
       "1    ['coronavirus', ':', 'yorkshire', 'quartet', '...  \n",
       "2    ['cdc', ':', 'all', 'the', 'kids', 'teens', \"'...  \n",
       "3    ['fellow', 'south', 'africans', 'one', 'day', ...  \n",
       "4    ['ahmedabad', 'adds', '165', 'covid-19', 'case...  \n",
       "..                                                 ...  \n",
       "195  ['the', 'riverton', 'fancy', 'car', 'gathering...  \n",
       "196  ['majority', 'children', 'die', 'covid-19', 'c...  \n",
       "197                                 ['oh', 'god', '.']  \n",
       "198  [' ', 'of', 'challenges', 'us', 'faces', 'the'...  \n",
       "199  ['meant', 'be', 'going', 'away', 'golfing', 'w...  \n",
       "\n",
       "[200 rows x 3 columns]"
      ]
     },
     "execution_count": 12,
     "metadata": {},
     "output_type": "execute_result"
    }
   ],
   "source": [
    "# Step 4\n",
    "# Get The Files inside the step_4 folder check\n",
    "\n",
    "tweetDirS4 = './step_4'\n",
    "_, _, filenames_s4 = next(walk(tweetDirS4))\n",
    "filenames_s4\n",
    "\n",
    "for file in filenames_s4:\n",
    "    mytest = pd.read_csv('./step_4/'+file,index_col=False)\n",
    "    del mytest['Unnamed: 0'] \n",
    "mytest"
   ]
  },
  {
   "cell_type": "code",
   "execution_count": null,
   "metadata": {},
   "outputs": [],
   "source": []
  },
  {
   "cell_type": "code",
   "execution_count": null,
   "metadata": {},
   "outputs": [],
   "source": []
  },
  {
   "cell_type": "code",
   "execution_count": null,
   "metadata": {},
   "outputs": [],
   "source": []
  },
  {
   "cell_type": "code",
   "execution_count": null,
   "metadata": {},
   "outputs": [],
   "source": []
  },
  {
   "cell_type": "code",
   "execution_count": null,
   "metadata": {},
   "outputs": [],
   "source": []
  },
  {
   "cell_type": "markdown",
   "metadata": {},
   "source": [
    "Run for the entire dataset"
   ]
  },
  {
   "cell_type": "code",
   "execution_count": null,
   "metadata": {},
   "outputs": [],
   "source": []
  },
  {
   "cell_type": "markdown",
   "metadata": {},
   "source": [
    "Tokenize the Dataset"
   ]
  },
  {
   "cell_type": "code",
   "execution_count": null,
   "metadata": {},
   "outputs": [],
   "source": []
  },
  {
   "cell_type": "markdown",
   "metadata": {},
   "source": [
    "Train the Classifier Model"
   ]
  },
  {
   "cell_type": "code",
   "execution_count": null,
   "metadata": {},
   "outputs": [],
   "source": []
  },
  {
   "cell_type": "markdown",
   "metadata": {},
   "source": [
    "Run with the sample Dataset using Classifier Model"
   ]
  },
  {
   "cell_type": "code",
   "execution_count": null,
   "metadata": {},
   "outputs": [],
   "source": []
  }
 ],
 "metadata": {
  "kernelspec": {
   "display_name": "Python 3",
   "language": "python",
   "name": "python3"
  },
  "language_info": {
   "codemirror_mode": {
    "name": "ipython",
    "version": 3
   },
   "file_extension": ".py",
   "mimetype": "text/x-python",
   "name": "python",
   "nbconvert_exporter": "python",
   "pygments_lexer": "ipython3",
   "version": "3.8.8"
  }
 },
 "nbformat": 4,
 "nbformat_minor": 4
}
