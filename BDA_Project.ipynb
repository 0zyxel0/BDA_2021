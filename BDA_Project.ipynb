{
 "cells": [
  {
   "cell_type": "markdown",
   "metadata": {},
   "source": [
    "## BDA Group Members \n",
    "- Goud, Kyra \n",
    "- Stein, Varvara\n",
    "- Tan, Xiao\n",
    "- Odoni, Reto\n",
    "- Ongkingco, Calvin Mitchell "
   ]
  },
  {
   "cell_type": "markdown",
   "metadata": {},
   "source": [
    "## Data Collection and Background"
   ]
  },
  {
   "cell_type": "markdown",
   "metadata": {},
   "source": [
    "The twitter data for the sentiment analysis is from Panacea Lab at Georgia State University. It consists of separated daily data from 2020-03-22 until 2021-06-05 (now). They state it as “Covid-19 Twitter chatter dataset for scientific use” and provided the corresponding tweet identifiers which in a next step need to be hydrated to be used. This is due to the terms and conditions of Twitter to re-distribute Twitter data. Therefore we created a Twitter developer account and then could follow the neat tutorial Juan M. Banda et al. provided to hydrate the data. Mainly it consists of two parts, the script configuration and the downloading of the tweets itself. We specified that we only wanted to use the english data and then left the computer downloading the tweets for the different days we had chosen.\n",
    "\n",
    "The aim of the project is to explore the data related to coronavirus at different periods of time and to analyse the general trends in users’ attitude (negative, neutral, positive). Additionally we would like to inspect whether the word ‘mask’ evoked positive or negative emotions over time. \n",
    "\n",
    "We expect the date of tweets to correlate with the rate of positive, neutral, and negative scores. For instance, neutral tweets may prevail in the most recent dataset, whereas the earliest dataset may have the biggest amount of negative tweets. The same pattern would apply to the word ‘mask’.\n"
   ]
  },
  {
   "cell_type": "markdown",
   "metadata": {},
   "source": [
    "### Data Collection Functions"
   ]
  },
  {
   "cell_type": "code",
   "execution_count": null,
   "metadata": {},
   "outputs": [],
   "source": [
    "import json\n",
    "import tweepy\n",
    "from tweepy import OAuthHandler\n",
    "\n",
    "# Authenticate\n",
    "CONSUMER_KEY = \"\" #@param {type:\"string\"}\n",
    "CONSUMER_SECRET_KEY = \"\" #@param {type:\"string\"}\n",
    "ACCESS_TOKEN_KEY = \"\" #@param {type:\"string\"}\n",
    "ACCESS_TOKEN_SECRET_KEY = \"\" #@param {type:\"string\"}\n",
    "\n",
    "#Creates a JSON Files with the API credentials\n",
    "with open('api_keys.json', 'w') as outfile:\n",
    "    json.dump({\n",
    "    \"consumer_key\":CONSUMER_KEY,\n",
    "    \"consumer_secret\":CONSUMER_SECRET_KEY,\n",
    "    \"access_token\":ACCESS_TOKEN_KEY,\n",
    "    \"access_token_secret\": ACCESS_TOKEN_SECRET_KEY\n",
    "     }, outfile)\n",
    "\n",
    "#The lines below are just to test if the twitter credentials are correct\n",
    "# Authenticate\n",
    "#auth = tweepy.AppAuthHandler(CONSUMER_KEY, CONSUMER_SECRET_KEY)\n",
    "\n",
    "#api = tweepy.API(auth, wait_on_rate_limit=True,\n",
    "#\t\t\t\t   wait_on_rate_limit_notify=True)\n",
    "\n",
    "#if (not api):\n",
    "#    print (\"Can't Authenticate\")\n",
    "#    sys.exit(-1)\n"
   ]
  },
  {
   "cell_type": "code",
   "execution_count": null,
   "metadata": {},
   "outputs": [],
   "source": [
    "import gzip\n",
    "import shutil\n",
    "import os\n",
    "import wget\n",
    "import csv\n",
    "import linecache\n",
    "from shutil import copyfile\n",
    "import ipywidgets as widgets\n",
    "import numpy as np\n",
    "import pandas as pd\n",
    "\n",
    "dataset_URL = \"https://github.com/thepanacealab/covid19_twitter/blob/master/dailies/2021-06-05/2021-06-05_clean-dataset.tsv.gz?raw=true\" #@param {type:\"string\"}\n",
    "\n",
    "#Downloads the dataset (compressed in a GZ format)\n",
    "#!wget dataset_URL -O clean-dataset.tsv.gz\n",
    "wget.download(dataset_URL, out='clean-dataset.tsv.gz')\n",
    "\n",
    "#Unzips the dataset and gets the TSV dataset\n",
    "with gzip.open('clean-dataset.tsv.gz', 'rb') as f_in:\n",
    "    with open('clean-dataset.tsv', 'wb') as f_out:\n",
    "        shutil.copyfileobj(f_in, f_out)\n",
    "\n",
    "#Deletes the compressed GZ file\n",
    "os.unlink(\"clean-dataset.tsv.gz\")\n",
    "\n",
    "#Gets all possible languages from the dataset\n",
    "df = pd.read_csv('clean-dataset.tsv',sep=\"\\t\")\n",
    "lang_list = df.lang.unique()\n",
    "lang_list= sorted(np.append(lang_list,'all'))\n",
    "lang_picker = widgets.Dropdown(options=lang_list, value=\"en\")\n",
    "lang_picker\n",
    "\n",
    "\n",
    "#Creates a new clean dataset with the specified language (if specified)\n",
    "filtered_language = lang_picker.value\n",
    "\n",
    "#If no language specified, it will get all records from the dataset\n",
    "if filtered_language == \"\":\n",
    "    copyfile('clean-dataset.tsv', 'clean-dataset-filtered.tsv')\n",
    "\n",
    "#If language specified, it will create another tsv file with the filtered records\n",
    "else:\n",
    "    filtered_tw = list()\n",
    "    current_line = 1\n",
    "    with open(\"clean-dataset.tsv\") as tsvfile:\n",
    "        tsvreader = csv.reader(tsvfile, delimiter=\"\\t\")\n",
    "    if current_line == 1:\n",
    "        filtered_tw.append(linecache.getline(\"clean-dataset.tsv\", current_line))\n",
    "\n",
    "        for line in tsvreader:\n",
    "            if line[3] == filtered_language:\n",
    "                filtered_tw.append(linecache.getline(\"clean-dataset.tsv\", current_line))\n",
    "            current_line += 1\n",
    "\n",
    "print('\\033[1mShowing first 5 tweets from the filtered dataset\\033[0m')\n",
    "print(filtered_tw[1:(6 if len(filtered_tw) > 6 else len(filtered_tw))])\n",
    "\n",
    "  with open('clean-dataset-filtered.tsv', 'w') as f_output:\n",
    "        for item in filtered_tw:\n",
    "            f_output.write(item)"
   ]
  },
  {
   "cell_type": "code",
   "execution_count": null,
   "metadata": {},
   "outputs": [],
   "source": [
    "# Developed during Biomedical Hackathon 6 - http://blah6.linkedannotation.org/\n",
    "# Authors: Ramya Tekumalla, Javad Asl, Juan M. Banda\n",
    "# Contributors: Kevin B. Cohen, Joanthan Lucero\n",
    "\n",
    "import tweepy\n",
    "import json\n",
    "import math\n",
    "import glob\n",
    "import csv\n",
    "import zipfile\n",
    "import zlib\n",
    "import argparse\n",
    "import os\n",
    "import os.path as osp\n",
    "import pandas as pd\n",
    "from tweepy import TweepError\n",
    "from time import sleep\n",
    "\n",
    "\n",
    "def main():\n",
    "    parser = argparse.ArgumentParser()\n",
    "    parser.add_argument(\"-o\", \"--outputfile\", help=\"Output file name with extension\")\n",
    "    parser.add_argument(\"-i\", \"--inputfile\", help=\"Input file name with extension\")\n",
    "    parser.add_argument(\"-k\", \"--keyfile\", help=\"Json api key file name\")\n",
    "    parser.add_argument(\"-c\", \"--idcolumn\", help=\"tweet id column in the input file, string name\")\n",
    "    parser.add_argument(\"-m\", \"--mode\", help=\"Enter e for extended mode ; else the program would consider default compatible mode\")\n",
    "\n",
    "\n",
    "    args = parser.parse_args()\n",
    "    if args.inputfile is None or args.outputfile is None:\n",
    "        parser.error(\"please add necessary arguments\")\n",
    "        \n",
    "    if args.keyfile is None:\n",
    "        parser.error(\"please add a keyfile argument\")\n",
    "\n",
    "    with open(args.keyfile) as f:\n",
    "        keys = json.load(f)\n",
    "\n",
    "    auth = tweepy.OAuthHandler(keys['consumer_key'], keys['consumer_secret'])\n",
    "    auth.set_access_token(keys['access_token'], keys['access_token_secret'])\n",
    "    api = tweepy.API(auth, wait_on_rate_limit=True, retry_delay=60*3, retry_count=5,retry_errors=set([401, 404, 500, 503]), wait_on_rate_limit_notify=True)\n",
    "    \n",
    "    if api.verify_credentials() == False: \n",
    "        print(\"Your twitter api credentials are invalid\") \n",
    "        sys.exit()\n",
    "    else: \n",
    "        print(\"Your twitter api credentials are valid.\") \n",
    "    \n",
    "    \n",
    "    output_file = args.outputfile\n",
    "    hydration_mode = args.mode\n",
    "\n",
    "    output_file_noformat = output_file.split(\".\",maxsplit=1)[0]\n",
    "    print(output_file)\n",
    "    output_file = '{}'.format(output_file)\n",
    "    output_file_short = '{}_short.json'.format(output_file_noformat)\n",
    "    compression = zipfile.ZIP_DEFLATED    \n",
    "    ids = []\n",
    "    \n",
    "    if '.tsv' in args.inputfile:\n",
    "        inputfile_data = pd.read_csv(args.inputfile, sep='\\t')\n",
    "        print('tab seperated file, using \\\\t delimiter')\n",
    "    elif '.csv' in args.inputfile:\n",
    "        inputfile_data = pd.read_csv(args.inputfile)\n",
    "    elif '.txt' in args.inputfile:\n",
    "        inputfile_data = pd.read_csv(args.inputfile, sep='\\n', header=None, names= ['tweet_id'] )\n",
    "        print(inputfile_data)\n",
    "    \n",
    "    if not isinstance(args.idcolumn, type(None)):\n",
    "        inputfile_data = inputfile_data.set_index(args.idcolumn)\n",
    "    else:\n",
    "        inputfile_data = inputfile_data.set_index('tweet_id')\n",
    "    \n",
    "    ids = list(inputfile_data.index)\n",
    "    print('total ids: {}'.format(len(ids)))\n",
    "\n",
    "    start = 0\n",
    "    end = 100\n",
    "    limit = len(ids)\n",
    "    i = int(math.ceil(float(limit) / 100))\n",
    "\n",
    "    last_tweet = None\n",
    "    if osp.isfile(args.outputfile) and osp.getsize(args.outputfile) > 0:\n",
    "        with open(output_file, 'rb') as f:\n",
    "            #may be a large file, seeking without iterating\n",
    "            f.seek(-2, os.SEEK_END)\n",
    "            while f.read(1) != b'\\n':\n",
    "                f.seek(-2, os.SEEK_CUR)\n",
    "            last_line = f.readline().decode()\n",
    "        last_tweet = json.loads(last_line)\n",
    "        start = ids.index(last_tweet['id'])\n",
    "        end = start+100\n",
    "        i = int(math.ceil(float(limit-start) / 100))\n",
    "\n",
    "    print('metadata collection complete')\n",
    "    print('creating master json file')\n",
    "    try:\n",
    "        with open(output_file, 'a') as outfile:\n",
    "            for go in range(i):\n",
    "                print('currently getting {} - {}'.format(start, end))\n",
    "                sleep(6)  # needed to prevent hitting API rate limit\n",
    "                id_batch = ids[start:end]\n",
    "                start += 100\n",
    "                end += 100       \n",
    "                backOffCounter = 1\n",
    "                while True:\n",
    "                    try:\n",
    "                        if hydration_mode == \"e\":\n",
    "                            tweets = api.statuses_lookup(id_batch,tweet_mode = \"extended\")\n",
    "                        else:\n",
    "                            tweets = api.statuses_lookup(id_batch)\n",
    "                        break\n",
    "                    except tweepy.TweepError as ex:\n",
    "                        print('Caught the TweepError exception:\\n %s' % ex)\n",
    "                        sleep(30*backOffCounter)  # sleep a bit to see if connection Error is resolved before retrying\n",
    "                        backOffCounter += 1  # increase backoff\n",
    "                        continue\n",
    "                for tweet in tweets:\n",
    "                    json.dump(tweet._json, outfile)\n",
    "                    outfile.write('\\n')\n",
    "    except:\n",
    "        print('exception: continuing to zip the file')\n",
    "\n",
    "    print('creating ziped master json file')\n",
    "    zf = zipfile.ZipFile('{}.zip'.format(output_file_noformat), mode='w')\n",
    "    zf.write(output_file, compress_type=compression)\n",
    "    zf.close()\n",
    "\n",
    "\n",
    "    def is_retweet(entry):\n",
    "        return 'retweeted_status' in entry.keys()\n",
    "\n",
    "    def get_source(entry):\n",
    "        if '<' in entry[\"source\"]:\n",
    "            return entry[\"source\"].split('>')[1].split('<')[0]\n",
    "        else:\n",
    "            return entry[\"source\"]\n",
    "    \n",
    "    \n",
    "    print('creating minimized json master file')\n",
    "    with open(output_file_short, 'w') as outfile:\n",
    "        with open(output_file) as json_data:\n",
    "            for tweet in json_data:\n",
    "                data = json.loads(tweet) \n",
    "                if hydration_mode == \"e\":\n",
    "                    text = data[\"full_text\"]\n",
    "                else:\n",
    "                    text = data[\"text\"]          \n",
    "                t = {\n",
    "                    \"created_at\": data[\"created_at\"],\n",
    "                    \"text\": text,\n",
    "                    \"in_reply_to_screen_name\": data[\"in_reply_to_screen_name\"],\n",
    "                    \"retweet_count\": data[\"retweet_count\"],\n",
    "                    \"favorite_count\": data[\"favorite_count\"],\n",
    "                    \"source\": get_source(data),\n",
    "                    \"id_str\": data[\"id_str\"],\n",
    "                    \"is_retweet\": is_retweet(data)\n",
    "                }\n",
    "                json.dump(t, outfile)\n",
    "                outfile.write('\\n')\n",
    "        \n",
    "    f = csv.writer(open('{}.csv'.format(output_file_noformat), 'w'))\n",
    "    print('creating CSV version of minimized json master file') \n",
    "    fields = [\"favorite_count\", \"source\", \"text\", \"in_reply_to_screen_name\", \"is_retweet\", \"created_at\", \"retweet_count\", \"id_str\"]                \n",
    "    f.writerow(fields)       \n",
    "    with open(output_file_short) as master_file:\n",
    "        for tweet in master_file:\n",
    "            data = json.loads(tweet)            \n",
    "            f.writerow([data[\"favorite_count\"], data[\"source\"], data[\"text\"].encode('utf-8'), data[\"in_reply_to_screen_name\"], data[\"is_retweet\"], data[\"created_at\"], data[\"retweet_count\"], data[\"id_str\"].encode('utf-8')])\n",
    "    \n",
    "\n",
    "# main invoked here    \n",
    "main()\n"
   ]
  },
  {
   "cell_type": "markdown",
   "metadata": {},
   "source": [
    "## Data Preprocessing, and how it was done"
   ]
  },
  {
   "cell_type": "markdown",
   "metadata": {},
   "source": [
    "\n",
    "Twitter text data pre-processing was divided into multiple steps. Step 0 to 2 are just parsing text from the raw json file to tokenization of the text to array lists. Step 3 is cleaning steps by removing “stop words:” or connecting words from the initial text. Step 4 generates polarization scores, subjectivity scores and text assessments to define what is the topic of the text. Step 5 and 6 are processes to define the text's affinity and how nouns are used in the raw text. The raw texts also contained emoji or emoticons that are part of the public texts that users use to show emotions and it was also converted to words to help align the text polarity. \n",
    "\n",
    "The multistep processing steps was considered by the group as a way to multitask and share the load on multiple machines so that as a file gets processed another person can run the 2nd step on another machine when the file is available and therefore saving time and making use of idle machines. This also saved some time when the machines running the pre-processing had issues such as BSoD(Blue Screen of Death), since each process creates and saves a file the group did not need to pre process all over again compared to loading all load to memory.\n",
    "\n",
    "Preprocessing used libraries such as spaCy, pandas and nltk. These libraries helped in scoring the raw text providing the group text affinity to define what are the specific sentiments of the person from the tokenized raw tweet text.\n",
    "We did three analyses over the processed data. First is to compare the polarization we got to the human rated score. We randomly chose 100 texts and rated them by one group member.\n",
    "\n",
    "Then we tried to find out the opinion of the public to mask and how it changed during the Covid period. \n",
    "At last we made a wordcloud for the most frequent words during this period on twitter.\n"
   ]
  },
  {
   "cell_type": "markdown",
   "metadata": {},
   "source": [
    "## Install Libraries to be used\n",
    "- !pip install -U pip setuptools wheel\n",
    "- !pip install -U spacy\n",
    "- !python -m spacy download en_core_web_sm\n",
    "- !pip install emot --upgrade\n",
    "- !pip install emoji --upgrade\n",
    "- !pip install spacymoji\n",
    "- !pip install spacytextblob\n",
    "- !pip install wordcloud"
   ]
  },
  {
   "cell_type": "code",
   "execution_count": null,
   "metadata": {},
   "outputs": [],
   "source": [
    "!pip install -U pip setuptools wheel\n",
    "!pip install -U spacy\n",
    "!python -m spacy download en_core_web_sm\n",
    "!pip install emot --upgrade\n",
    "!pip install emoji --upgrade\n",
    "!pip install spacymoji\n",
    "!pip install spacytextblob\n",
    "!pip install wordcloud"
   ]
  },
  {
   "cell_type": "code",
   "execution_count": 1,
   "metadata": {},
   "outputs": [
    {
     "data": {
      "text/html": [
       "<style>\n",
       "table {float:left};\n",
       "</style>\n"
      ],
      "text/plain": [
       "<IPython.core.display.HTML object>"
      ]
     },
     "metadata": {},
     "output_type": "display_data"
    }
   ],
   "source": [
    "%%html\n",
    "<style>\n",
    "table {float:left};\n",
    "</style>"
   ]
  },
  {
   "cell_type": "markdown",
   "metadata": {},
   "source": [
    "## Importing Libraries that will be used"
   ]
  },
  {
   "cell_type": "code",
   "execution_count": 2,
   "metadata": {},
   "outputs": [],
   "source": [
    "# General Dependencies\n",
    "import ast\n",
    "import json\n",
    "import random \n",
    "import pandas as pd\n",
    "import numpy as np\n",
    "from collections import Counter\n",
    "import matplotlib.pyplot as plt\n",
    "import re\n",
    "import os\n",
    "from timeit import default_timer as timer\n",
    "from tqdm.notebook import tqdm\n",
    "tqdm.pandas()\n",
    "\n",
    "# Load the fields list\n",
    "import fields\n",
    "fieldsFilter = fields.fields\n",
    "\n",
    "# Wordcloud Dependencies\n",
    "from PIL import Image\n",
    "from wordcloud import WordCloud, STOPWORDS\n",
    "\n",
    "# Emoji Dependencies\n",
    "import unicodedata\n",
    "from emot.emo_unicode import UNICODE_EMO, EMOTICONS\n",
    "import emoji\n",
    "\n"
   ]
  },
  {
   "cell_type": "markdown",
   "metadata": {},
   "source": [
    "## Initialize the NLP Module"
   ]
  },
  {
   "cell_type": "code",
   "execution_count": 3,
   "metadata": {},
   "outputs": [
    {
     "data": {
      "text/plain": [
       "<spacytextblob.spacytextblob.SpacyTextBlob at 0x2d48e3b3070>"
      ]
     },
     "execution_count": 3,
     "metadata": {},
     "output_type": "execute_result"
    }
   ],
   "source": [
    "# Declare Spacy NLP Module\n",
    "import spacy\n",
    "from spacytextblob.spacytextblob import SpacyTextBlob\n",
    "\n",
    "# Load English tokenizer, tagger, parser and NER\n",
    "nlp = spacy.load(\"en_core_web_sm\")\n",
    "nlp.add_pipe('spacytextblob')"
   ]
  },
  {
   "cell_type": "markdown",
   "metadata": {},
   "source": [
    "## Initialize the Functions"
   ]
  },
  {
   "cell_type": "code",
   "execution_count": 4,
   "metadata": {},
   "outputs": [],
   "source": [
    "def createDataSample(datafile = \"\",sample_count = 0):\n",
    "    \n",
    "    '''\n",
    "        Creates a sample dataset from a given json file\n",
    "        @param {'type':string} datafile - file path of the twitter json file\n",
    "        @param {'type':string} sample_count - Number of samples to create\n",
    "        \n",
    "    '''\n",
    "    \n",
    "    list_tweets = None\n",
    "    \n",
    "    with open(datafile, \"r\") as myfile:        \n",
    "        list_tweets = list(myfile)\n",
    "\n",
    "    if int(sample_count) > len(list_tweets):\n",
    "        sample_count = len(list_tweets)\n",
    "\n",
    "    sample = random.sample(list_tweets, int(sample_count))\n",
    "    \n",
    "    file = open(\"./tweets/sample_\"+str(sample_count)+\".json\", \"w\")\n",
    "    for i in sample:\n",
    "        file.write(i)\n",
    "    file.close() #This close() is important\n",
    "\n",
    "    return print(\"Sample File Created.\")\n",
    "\n",
    "\n",
    "# CLEANING  FUNCTIONS\n",
    "\n",
    "def remove_emoticons(text):\n",
    "    emoticon_pattern = re.compile(u'(' + u'|'.join(k for k in EMOTICONS) + u')')\n",
    "    return emoticon_pattern.sub(r'', text)\n",
    "\n",
    "def remove_emoji(text):\n",
    "    emoji_pattern = re.compile(\"[\"\n",
    "                           u\"\\U0001F600-\\U0001F64F\"  # emoticons\n",
    "                           u\"\\U0001F300-\\U0001F5FF\"  # symbols & pictographs\n",
    "                           u\"\\U0001F680-\\U0001F6FF\"  # transport & map symbols\n",
    "                           u\"\\U0001F1E0-\\U0001F1FF\"  # flags (iOS)\n",
    "                           u\"\\U00002702-\\U000027B0\"\n",
    "                           u\"\\U000024C2-\\U0001F251\"\n",
    "                           \"]+\", flags=re.UNICODE)\n",
    "    return emoji_pattern.sub(r'', text)\n",
    "\n",
    "def remove_urls(text):\n",
    "    result = re.sub(r\"http\\S+\", \"\", text)\n",
    "    return(result)\n",
    "\n",
    "def remove_twitter_urls(text):\n",
    "    clean = re.sub(r\"pic.twitter\\S+\", \"\",text)\n",
    "    return(clean)\n",
    "\n",
    "def give_emoji_free_text(text):\n",
    "    return emoji.get_emoji_regexp().sub(r'', text)\n",
    "\n",
    "def remove_user_mentions(text):\n",
    "    clean_tweet = re.sub(\"@[A-Za-z0-9_]+\",\"\", text)\n",
    "    clean_tweet = re.sub(\"#[A-Za-z0-9_]+\",\"\", clean_tweet)\n",
    "    return clean_tweet\n",
    "\n",
    "def change_to_lowercase(text):\n",
    "    return text.lower()    \n",
    "\n",
    "def remove_returnchar(text):\n",
    "    clean_tweet = text.replace('\\r','')\n",
    "    return clean_tweet\n",
    "\n",
    "def remove_whitespaces(text):\n",
    "    clean_tweet = text.replace(r'(\\r\\n)+|\\r+|\\n+|\\t+','')\n",
    "    return clean_tweet\n",
    "    \n",
    "def extractTweetText(datfile):\n",
    "    \n",
    "    #Initialize Temporary Array Storage\n",
    "    tempStorage = []\n",
    "\n",
    "    #Parse Json to a temporary storage\n",
    "    with open('./tweets/'+datfile, 'r') as f:\n",
    "        for line in f:\n",
    "            tempStorage.append(json.loads(line))\n",
    "\n",
    "    # Convert Array to a Pandas Data Frame\n",
    "    tempFrame = pd.DataFrame(tempStorage)\n",
    "    \n",
    "    # Drop all columns except for text column\n",
    "    tempFrame = tempFrame[['text']]\n",
    "    \n",
    "    #Get only the file name and remove the extension\n",
    "    fname = str(datfile).split('.')[0]\n",
    "    \n",
    "    #Save dataframe to csv\n",
    "    tempFrame.to_csv(r'./step_1/s1_'+str(fname)+'.csv')\n",
    "\n",
    "# Clean and process tweet text by removing URL, EMOJI and User Mentions\n",
    "def removeTwitterMeta(datfile):    \n",
    "    tweet_df = pd.read_csv('./step_1/'+str(datfile),index_col=False) \n",
    "    #Replace the spaces and enters\n",
    "    tweet_df = tweet_df.loc[:, tweet_df.columns.isin(fieldsFilter)]\n",
    "    print(\"Step 1 : Cleaning Whitespaces\")\n",
    "    tweet_df['text'] = tweet_df['text'].progress_apply(lambda x : remove_whitespaces(x))\n",
    "    print(\"Step 2 : Cleaning URLs\")\n",
    "    tweet_df['text'] = tweet_df['text'].progress_apply(lambda x : remove_urls(x))\n",
    "    print(\"Step 3 : Cleaning Twitter URLs\")\n",
    "    tweet_df['text'] = tweet_df['text'].progress_apply(lambda x : remove_twitter_urls(x))\n",
    "    print(\"Step 4 : Converting Emoji To Words\")\n",
    "    tweet_df['text'] = tweet_df['text'].progress_apply(lambda x : emoji_to_word(x))\n",
    "    print(\"Step 5 : Cleaning Emoticons\")\n",
    "    tweet_df['text'] = tweet_df['text'].progress_apply(lambda x : remove_emoticons(x))\n",
    "    print(\"Step 6 : Cleaning Twitter User Mentions\")\n",
    "    tweet_df['text'] = tweet_df['text'].progress_apply(lambda x : remove_user_mentions(x))\n",
    "    print(\"Step 6 : Converting To Lower Case\")\n",
    "    tweet_df['text'] = tweet_df['text'].progress_apply(lambda x : change_to_lowercase(x))\n",
    "\n",
    "    #Get only the file name and remove the extension\n",
    "    fname = str(datfile).split('_')[1]\n",
    "    fname = str(fname).split('.')[0]\n",
    "    tweet_df.to_csv(r'./step_2/s2_'+str(fname)+'.csv')\n",
    "\n",
    "def defineVocabulary(data):\n",
    "    tempStorage = []\n",
    "    with nlp.select_pipes(disable=[\"parser\", \"lemmatizer\",\"spacytextblob\",]):\n",
    "        doc= nlp(data)\n",
    "        for token in doc:\n",
    "            tempStorage.append({token.text,token.pos_})\n",
    "    return tempStorage\n",
    "\n",
    "def removeStopWords(data):    \n",
    "    tempStorage = ast.literal_eval(data)    \n",
    "    # Load stop words\n",
    "    spacy_stopwords = spacy.lang.en.stop_words.STOP_WORDS\n",
    "    # Loop inside text\n",
    "    for x in tempStorage:\n",
    "        if x in spacy_stopwords: tempStorage.remove(x) \n",
    "    return tempStorage\n",
    "\n",
    "def definePolarization(data):   \n",
    "    with nlp.select_pipes(disable=[\"tok2vec\", \"parser\", \"attribute_ruler\", \"lemmatizer\"]):\n",
    "        doc= nlp(data)\n",
    "    return doc._.polarity\n",
    "\n",
    "def defineSubjectivity(data):\n",
    "    with nlp.select_pipes(disable=[\"tok2vec\", \"parser\", \"attribute_ruler\", \"lemmatizer\"]):\n",
    "        doc= nlp(data)\n",
    "    return doc._.subjectivity\n",
    "\n",
    "def defineAssessments(data):\n",
    "    with nlp.select_pipes(disable=[\"tok2vec\", \"parser\", \"attribute_ruler\", \"lemmatizer\"]):\n",
    "        doc= nlp(data)\n",
    "    return doc._.assessments\n",
    "    \n",
    "def emoji_to_word(text):\n",
    "    return emoji.demojize(text, delimiters=(\"\", \"\"))\n",
    "\n",
    "# Tokenize the text in the dataframe\n",
    "def tokenizeText(data):\n",
    "    tempStorage = []\n",
    "    with nlp.select_pipes(disable=[\"tagger\", \"parser\", \"lemmatizer\"]):\n",
    "        doc = nlp(data)\n",
    "        for word in doc:\n",
    "            tempStorage.append(word.text)\n",
    "    return tempStorage\n",
    "\n",
    "def generateWordcloudData(payload):    \n",
    "    \"\"\"\n",
    "      This Function Accepts a pandas dataframe from any step of the processing with the named text column.\n",
    "      payload - pandas dataframe with string text column.\n",
    "    \"\"\"   \n",
    "    \n",
    "    combinedText = \"\"\n",
    "    \n",
    "    textData = payload['text']\n",
    "    textData = pd.DataFrame(textData)\n",
    "    \n",
    "    combinedText = combinedText.join(textData.text)\n",
    "\n",
    "    #image storage\n",
    "    # https://drive.google.com/file/d/14DRvgevx-ffa9BKPztzt3nE9B2TamWhJ/view?usp=sharing\n",
    "    mask = np.array(Image.open(\"./img/cov19.png\")) #jpg also ok\n",
    "    stopwords = set(STOPWORDS)\n",
    "    wordcloud = WordCloud(\n",
    "                            max_font_size = 140,\n",
    "                            width = 2000,\n",
    "                            height = 1000,\n",
    "                            background_color = \"white\",\n",
    "                            mask=mask,\n",
    "                            contour_width = 1,\n",
    "                            stopwords = STOPWORDS)\n",
    "\n",
    "    wordcloud.generate(combinedText)\n",
    "\n",
    "    plt.imshow(wordcloud)#, interpolation='bilinear')\n",
    "    plt.axis(\"off\")\n",
    "    plt.figure()\n",
    "#     plt.imshow(mask)#, cmap=plt.cm.gray, interpolation='bilinear')\n",
    "    plt.axis(\"off\")\n",
    "#     plt.show()\n",
    "    #write to img\n",
    "    image = wordcloud.to_image()\n",
    "    image.show()    \n",
    "    \n",
    "    return plt.show()\n",
    "\n",
    "\n",
    "def generateUniqueWords(data, unique_count=0):\n",
    "\n",
    "    result = Counter(\" \".join(data['text'].values.tolist()).split(\" \")).items()\n",
    "    df2 = pd.DataFrame(result)\n",
    "    df2.columns =['Word', 'Frequency']\n",
    "    df2 = df2[df2.Word != \"\"] #Deletes the empty spaces counted\n",
    "    df2 = df2.sort_values(['Frequency'], ascending=[False]) #Sort dataframe by frequency (Descending)\n",
    "\n",
    "    print('\\033[1mTop '+str(unique_count)+' most unique words used from the dataset\\033[0m \\n')\n",
    "    print(df2.head(int(unique_count)).to_string(index=False)) #Prints the top N unique words used\n",
    "    print(\"\\n\")\n",
    "    df3 = df2.head(int(unique_count))\n",
    "    return df3.plot(y='Frequency', kind='pie', labels=df3['Word'], figsize=(9, 9), autopct='%1.1f%%', title='Top '+str(unique_count)+' most unique words used from the dataset')\n",
    "\n",
    "\n",
    "def defineAffinity(data):\n",
    "    if(data > 0):\n",
    "        return 1\n",
    "    elif(data < 0):\n",
    "        return -1\n",
    "    else:\n",
    "        return 0\n",
    "    \n",
    "def defineMaskPolarization(dataframe):\n",
    "    maskPolarization = dataframe[dataframe.text.str.contains('mask',case=False)].polarization\n",
    "    maskPolarization1 = dataframe[dataframe.text.str.contains('ffp2',case=False)].polarization\n",
    "    mps = [maskPolarization, maskPolarization1]\n",
    "    maskPolarizationFinal = pd.concat(mps)\n",
    "    return (maskPolarizationFinal.mean(axis=0))\n",
    "\n",
    "def maskTmag(dataframe):\n",
    "    maskPolarization = dataframe[dataframe.text.str.contains('mask',case=False)].tMag\n",
    "    maskPolarization1 = dataframe[dataframe.text.str.contains('ffp2',case=False)].tMag\n",
    "    mps = [maskPolarization, maskPolarization1]\n",
    "    maskPolarizationFinal = pd.concat(mps)\n",
    "    return (maskPolarizationFinal.mean(axis=0))\n",
    "  "
   ]
  },
  {
   "cell_type": "code",
   "execution_count": null,
   "metadata": {},
   "outputs": [],
   "source": [
    "# Create A Sample Dataset to process\n",
    "# createDataSample(datafile =  './complete/20200730.json', sample_count = 100)"
   ]
  },
  {
   "cell_type": "code",
   "execution_count": null,
   "metadata": {},
   "outputs": [],
   "source": [
    "# Step 0\n",
    "# Specify Raw Tweet Directory\n",
    "tweetDir = './tweets'\n",
    "_, _, filenames = next(os.walk(tweetDir))\n",
    "\n",
    "for file in filenames:\n",
    "    extractTweetText(file)"
   ]
  },
  {
   "cell_type": "code",
   "execution_count": null,
   "metadata": {
    "scrolled": true
   },
   "outputs": [],
   "source": [
    "# Step 1\n",
    "#Extract Text of Tweets and Save to CSV file\n",
    "\n",
    "tweetDirS1 = './step_1'\n",
    "_, _, filenames_s1 = next(os.walk(tweetDirS1))\n",
    "\n",
    "for file in filenames_s1:\n",
    "    start = timer()\n",
    "    removeTwitterMeta(file)\n",
    "    end = timer()\n",
    "    print(end - start)"
   ]
  },
  {
   "cell_type": "code",
   "execution_count": null,
   "metadata": {},
   "outputs": [],
   "source": [
    "# Step 2\n",
    "# Get The Files inside the step_2 folder for futher processing\n",
    "tweetDirS2 = './step_2'\n",
    "_, _, filenames_s2 = next(os.walk(tweetDirS2))\n",
    "\n",
    "for file in filenames_s2:\n",
    "    start = timer()    \n",
    "    mydata = pd.read_csv('./step_2/'+file,index_col=False)\n",
    "    del mydata['Unnamed: 0'] \n",
    "    mydata['ttext'] = mydata['text'].progress_apply(lambda x : tokenizeText(x))\n",
    "    \n",
    "    #Get only the file name and remove the extension\n",
    "    fname = str(file).split('_')[1]\n",
    "    fname = str(fname).split('.')[0]\n",
    "    mydata.to_csv(r'./step_3/s3_'+str(fname)+'.csv')\n",
    "    end = timer()\n",
    "    print(end - start)\n"
   ]
  },
  {
   "cell_type": "code",
   "execution_count": null,
   "metadata": {},
   "outputs": [],
   "source": [
    "# Step 3\n",
    "# Get The Files inside the step_3 folder and reduce the connecting words\n",
    "tweetDirS3 = './step_3'\n",
    "_, _, filenames_s3 = next(os.walk(tweetDirS3))\n",
    "\n",
    "for file in filenames_s3:\n",
    "    start = timer()\n",
    "    mydata = pd.read_csv('./step_3/'+file,index_col=False)\n",
    "    del mydata['Unnamed: 0']\n",
    "    mydata['nstop'] = mydata['ttext'].progress_apply(lambda x : removeStopWords(x))\n",
    "    \n",
    "    #Get only the file name and remove the extension\n",
    "    fname = str(file).split('_')[1]\n",
    "    fname = str(fname).split('.')[0]\n",
    "    mydata.to_csv(r'./step_4/s4_'+str(fname)+'.csv')\n",
    "    end = timer()\n",
    "    print(end - start)"
   ]
  },
  {
   "cell_type": "code",
   "execution_count": null,
   "metadata": {},
   "outputs": [],
   "source": [
    "# Step 4\n",
    "# Get The Files inside the step_5 folder add column for polarity, assessment and subjectivity\n",
    "\n",
    "tweetDirS4 = './step_4'\n",
    "_, _, filenames_s4 = next(os.walk(tweetDirS4))\n",
    "\n",
    "for file in filenames_s4:\n",
    "    start = timer()\n",
    "    mydata = pd.read_csv('./step_4/'+file,index_col=False)\n",
    "    del mydata['Unnamed: 0'] \n",
    "    print(\"Processing Text Polarization\")\n",
    "    mydata['polarization'] = mydata['text'].progress_apply(lambda x : definePolarization(x))\n",
    "    print(\"Processing Text Subjectivity\")\n",
    "    mydata['subjectivity'] = mydata['text'].progress_apply(lambda x : defineSubjectivity(x))\n",
    "    print(\"Processing Text Assessments\")\n",
    "    mydata['assessment'] = mydata['text'].progress_apply(lambda x : defineAssessments(x))\n",
    "    \n",
    "    #Get only the file name and remove the extension\n",
    "    fname = str(file).split('_')[1]\n",
    "    fname = str(fname).split('.')[0]\n",
    "    mydata.to_csv(r'./step_5/s5_'+str(fname)+'.csv')\n",
    "    end = timer()\n",
    "    print(end - start)\n",
    "# Seperate wordscore in 3 seperate columns\n",
    "mydata"
   ]
  },
  {
   "cell_type": "code",
   "execution_count": null,
   "metadata": {},
   "outputs": [],
   "source": [
    "# Step 5 \n",
    "# Get The Files inside the step_4 folder check\n",
    "\n",
    "tweetDirS5 = './step_5'\n",
    "_, _, filenames_s5 = next(os.walk(tweetDirS5))\n",
    "\n",
    "for file in filenames_s5:\n",
    "    start = timer()\n",
    "    mydata = pd.read_csv('./step_5/'+file,index_col=False)\n",
    "    del mydata['Unnamed: 0'] \n",
    "    processingFrame = mydata['text'].copy()\n",
    "    processingFrame = pd.DataFrame(processingFrame)\n",
    "    processingFrame['wordDef'] = processingFrame['text'].progress_apply(lambda x : defineVocabulary(x))\n",
    "    mydata['wordDef'] = processingFrame['wordDef'].copy()\n",
    "    #Get only the file name and remove the extension\n",
    "    fname = str(file).split('_')[1]\n",
    "    fname = str(fname).split('.')[0]\n",
    "    mydata.to_csv(r'./step_6/s6_'+str(fname)+'.csv')\n",
    "    end = timer()\n",
    "    print(end - start)"
   ]
  },
  {
   "cell_type": "code",
   "execution_count": null,
   "metadata": {},
   "outputs": [],
   "source": [
    "# Step 6\n",
    "# Provide a Magnetization Indicator if positive or negative\n",
    "\n",
    "tweetDirS6 = './step_6'\n",
    "_, _, filenames_s6 = next(os.walk(tweetDirS6))\n",
    "\n",
    "for file in filenames_s6:\n",
    "    start = timer()\n",
    "    mydata = pd.read_csv('./step_6/'+file,index_col=False)\n",
    "    del mydata['Unnamed: 0'] \n",
    "    processingFrame = mydata['polarization'].copy()\n",
    "    processingFrame = pd.DataFrame(processingFrame)\n",
    "    processingFrame['tMag'] = processingFrame['polarization'].progress_apply(lambda x : defineAffinity(x))\n",
    "    mydata['tMag'] = processingFrame['tMag'].copy()\n",
    "    #Get only the file name and remove the extension\n",
    "    fname = str(file).split('_')[1]\n",
    "    fname = str(fname).split('.')[0]\n",
    "    mydata.to_csv(r'./step_7/s7_'+str(fname)+'.csv')\n",
    "    end = timer()\n",
    "    print(end - start)"
   ]
  },
  {
   "cell_type": "markdown",
   "metadata": {},
   "source": [
    "## Load the Processed Datasets in a Dataframe"
   ]
  },
  {
   "cell_type": "code",
   "execution_count": 5,
   "metadata": {},
   "outputs": [],
   "source": [
    "# Load Data\n",
    "data_1 = pd.read_csv('./processed/s7_20200730.csv',index_col=False)\n",
    "data_2 = pd.read_csv('./processed/s7_20200916.csv',index_col=False)\n",
    "data_3 = pd.read_csv('./processed/s7_20201231.csv',index_col=False)\n",
    "data_4 = pd.read_csv('./processed/s7_20210216.csv',index_col=False)\n",
    "data_5 = pd.read_csv('./processed/s7_20210510.csv',index_col=False)\n",
    "data_6 = pd.read_csv('./processed/s7_20210605.csv',index_col=False)\n",
    "#our personally annotated dataset with add. column 'manualRating'\n",
    "df2 = pd.read_excel('./processed/100_sentences-1.xlsx') "
   ]
  },
  {
   "cell_type": "code",
   "execution_count": 6,
   "metadata": {},
   "outputs": [],
   "source": [
    "# Initialize Storage\n",
    "\n",
    "myDataCounter = []\n",
    "\n",
    "positive_1 = (data_1.tMag == 1).sum()\n",
    "negative_1 = (data_1.tMag == -1).sum()\n",
    "neutral_1 = (data_1.tMag == 0).sum()\n",
    "\n",
    "positive_2 = (data_2.tMag == 1).sum()\n",
    "negative_2 = (data_2.tMag == -1).sum()\n",
    "neutral_2 = (data_2.tMag == 0).sum()\n",
    "\n",
    "positive_3 = (data_3.tMag == 1).sum()\n",
    "negative_3 = (data_3.tMag == -1).sum()\n",
    "neutral_3 = (data_3.tMag == 0).sum()\n",
    "\n",
    "positive_4 = (data_4.tMag == 1).sum()\n",
    "negative_4 = (data_4.tMag == -1).sum()\n",
    "neutral_4 = (data_4.tMag == 0).sum()\n",
    "\n",
    "positive_5 = (data_5.tMag == 1).sum()\n",
    "negative_5 = (data_5.tMag == -1).sum()\n",
    "neutral_5 = (data_5.tMag == 0).sum()\n",
    "\n",
    "positive_6 = (data_6.tMag == 1).sum()\n",
    "negative_6 = (data_6.tMag == -1).sum()\n",
    "neutral_6 = (data_6.tMag == 0).sum()\n",
    "\n",
    "myDataCounter.append({\"positive\":positive_1/len(data_1),\"negative\":negative_1/len(data_1),\"neutral\":neutral_1/len(data_1)})\n",
    "myDataCounter.append({\"positive\":positive_2/len(data_2),\"negative\":negative_2/len(data_2),\"neutral\":neutral_2/len(data_2)})\n",
    "myDataCounter.append({\"positive\":positive_3/len(data_3),\"negative\":negative_3/len(data_3),\"neutral\":neutral_3/len(data_3)})\n",
    "myDataCounter.append({\"positive\":positive_4/len(data_4),\"negative\":negative_4/len(data_4),\"neutral\":neutral_4/len(data_4)})\n",
    "myDataCounter.append({\"positive\":positive_5/len(data_5),\"negative\":negative_5/len(data_5),\"neutral\":neutral_5/len(data_5)})\n",
    "myDataCounter.append({\"positive\":positive_6/len(data_6),\"negative\":negative_6/len(data_6),\"neutral\":neutral_6/len(data_6)})\n",
    "\n",
    "myVis = pd.DataFrame(myDataCounter,index=['2020-07-30', '2020-09-16', '2020-12-31','2021-02-16','2021-05-10','2021-06-05'])\n",
    "\n",
    "\n",
    "# Initialize Data in Lists\n",
    "pds = [data_1, data_2, data_3, data_4, data_5, data_6]\n",
    "df = pd.concat(pds)\n",
    "\n",
    "# Initialize Data for Mask Polarization\n",
    "mPolarizationStorage = []\n",
    "for item in pds:\n",
    "    mPolarizationStorage.append(defineMaskPolarization(item))\n",
    "mpsFrame = pd.DataFrame(mPolarizationStorage,index=['2020-07-30', '2020-09-16', '2020-12-31','2021-02-16','2021-05-10','2021-06-05'])\n",
    "\n",
    "# Initialize Data for Manual Polarization Comparison\n",
    "dataComparison = pd.DataFrame(df2, columns=['polarization', 'manualRating'])\n",
    "\n",
    "# Initialize tMag is the neg, pos or neutral classification value. \n",
    "tMagStorage = []\n",
    "for item in pds:\n",
    "    tMagStorage.append(maskTmag(item)) \n",
    "tMagFrame = pd.DataFrame(tMagStorage,index=['2020-07-30', '2020-09-16', '2020-12-31','2021-02-16','2021-05-10','2021-06-05'])"
   ]
  },
  {
   "cell_type": "markdown",
   "metadata": {},
   "source": [
    "### Exploratory Data Findings"
   ]
  },
  {
   "cell_type": "code",
   "execution_count": 7,
   "metadata": {},
   "outputs": [
    {
     "data": {
      "image/png": "[encoded data removed]",
      "text/plain": [
       "<Figure size 432x288 with 1 Axes>"
      ]
     },
     "metadata": {},
     "output_type": "display_data"
    }
   ],
   "source": [
    "import seaborn as sns\n",
    "\n",
    "sns.set_theme(style=\"whitegrid\")\n",
    "plt.plot(myVis['positive'], label = \"Positive\")\n",
    "plt.plot(myVis['negative'], label = \"Negative\")\n",
    "plt.plot(myVis['neutral'], label = \"Neutral\")\n",
    "plt.title('Sentiment Magnetization Over Time')\n",
    "plt.xlabel('Timeline')\n",
    "plt.ylabel('Affinity Magnetization')\n",
    "plt.legend()\n",
    "plt.show()"
   ]
  },
  {
   "cell_type": "code",
   "execution_count": 8,
   "metadata": {},
   "outputs": [
    {
     "data": {
      "image/png": "[encoded data removed]",
      "text/plain": [
       "<Figure size 432x288 with 1 Axes>"
      ]
     },
     "metadata": {},
     "output_type": "display_data"
    }
   ],
   "source": [
    "ax= myVis.plot.bar()\n",
    "plt.title('Sentiment Magnetization Over Time')\n",
    "plt.xlabel('Timeline')\n",
    "plt.ylabel('Affinity Magnetization')\n",
    "plt.legend()\n",
    "plt.show()"
   ]
  },
  {
   "cell_type": "markdown",
   "metadata": {},
   "source": [
    "### Data comparison fo Manual Polarization vs Automated Polarization"
   ]
  },
  {
   "cell_type": "code",
   "execution_count": 9,
   "metadata": {},
   "outputs": [
    {
     "data": {
      "text/html": [
       "<div>\n",
       "<style scoped>\n",
       "    .dataframe tbody tr th:only-of-type {\n",
       "        vertical-align: middle;\n",
       "    }\n",
       "\n",
       "    .dataframe tbody tr th {\n",
       "        vertical-align: top;\n",
       "    }\n",
       "\n",
       "    .dataframe thead th {\n",
       "        text-align: right;\n",
       "    }\n",
       "</style>\n",
       "<table border=\"1\" class=\"dataframe\">\n",
       "  <thead>\n",
       "    <tr style=\"text-align: right;\">\n",
       "      <th></th>\n",
       "      <th>polarization</th>\n",
       "      <th>manualRating</th>\n",
       "    </tr>\n",
       "  </thead>\n",
       "  <tbody>\n",
       "    <tr>\n",
       "      <th>0</th>\n",
       "      <td>0.000</td>\n",
       "      <td>0.0</td>\n",
       "    </tr>\n",
       "    <tr>\n",
       "      <th>1</th>\n",
       "      <td>-0.300</td>\n",
       "      <td>-0.3</td>\n",
       "    </tr>\n",
       "    <tr>\n",
       "      <th>2</th>\n",
       "      <td>-0.200</td>\n",
       "      <td>-0.5</td>\n",
       "    </tr>\n",
       "    <tr>\n",
       "      <th>3</th>\n",
       "      <td>0.000</td>\n",
       "      <td>-0.2</td>\n",
       "    </tr>\n",
       "    <tr>\n",
       "      <th>4</th>\n",
       "      <td>0.000</td>\n",
       "      <td>0.0</td>\n",
       "    </tr>\n",
       "    <tr>\n",
       "      <th>...</th>\n",
       "      <td>...</td>\n",
       "      <td>...</td>\n",
       "    </tr>\n",
       "    <tr>\n",
       "      <th>95</th>\n",
       "      <td>0.125</td>\n",
       "      <td>-0.3</td>\n",
       "    </tr>\n",
       "    <tr>\n",
       "      <th>96</th>\n",
       "      <td>0.000</td>\n",
       "      <td>-0.3</td>\n",
       "    </tr>\n",
       "    <tr>\n",
       "      <th>97</th>\n",
       "      <td>0.400</td>\n",
       "      <td>-0.1</td>\n",
       "    </tr>\n",
       "    <tr>\n",
       "      <th>98</th>\n",
       "      <td>0.000</td>\n",
       "      <td>0.2</td>\n",
       "    </tr>\n",
       "    <tr>\n",
       "      <th>99</th>\n",
       "      <td>0.000</td>\n",
       "      <td>-0.3</td>\n",
       "    </tr>\n",
       "  </tbody>\n",
       "</table>\n",
       "<p>100 rows × 2 columns</p>\n",
       "</div>"
      ],
      "text/plain": [
       "    polarization  manualRating\n",
       "0          0.000           0.0\n",
       "1         -0.300          -0.3\n",
       "2         -0.200          -0.5\n",
       "3          0.000          -0.2\n",
       "4          0.000           0.0\n",
       "..           ...           ...\n",
       "95         0.125          -0.3\n",
       "96         0.000          -0.3\n",
       "97         0.400          -0.1\n",
       "98         0.000           0.2\n",
       "99         0.000          -0.3\n",
       "\n",
       "[100 rows x 2 columns]"
      ]
     },
     "execution_count": 9,
     "metadata": {},
     "output_type": "execute_result"
    }
   ],
   "source": [
    "dataComparison"
   ]
  },
  {
   "cell_type": "code",
   "execution_count": 10,
   "metadata": {},
   "outputs": [
    {
     "name": "stderr",
     "output_type": "stream",
     "text": [
      "C:\\Users\\MITCH-PC\\anaconda3\\lib\\site-packages\\seaborn\\distributions.py:2557: FutureWarning: `distplot` is a deprecated function and will be removed in a future version. Please adapt your code to use either `displot` (a figure-level function with similar flexibility) or `histplot` (an axes-level function for histograms).\n",
      "  warnings.warn(msg, FutureWarning)\n",
      "C:\\Users\\MITCH-PC\\anaconda3\\lib\\site-packages\\seaborn\\distributions.py:2557: FutureWarning: `distplot` is a deprecated function and will be removed in a future version. Please adapt your code to use either `displot` (a figure-level function with similar flexibility) or `histplot` (an axes-level function for histograms).\n",
      "  warnings.warn(msg, FutureWarning)\n"
     ]
    },
    {
     "data": {
      "image/png": "[encoded data removed]",
      "text/plain": [
       "<Figure size 432x288 with 1 Axes>"
      ]
     },
     "metadata": {},
     "output_type": "display_data"
    }
   ],
   "source": [
    "sns.distplot(dataComparison['polarization'], label=\"Automated Polarization\")\n",
    "sns.distplot(dataComparison['manualRating'], label=\"Manual Polarization\")\n",
    "plt.title('Sentiment Magnetization Comparison')\n",
    "plt.xlabel('Polarization')\n",
    "plt.ylabel('Affinity Count')\n",
    "plt.legend()\n",
    "plt.show()"
   ]
  },
  {
   "cell_type": "code",
   "execution_count": 11,
   "metadata": {},
   "outputs": [
    {
     "data": {
      "text/plain": [
       "0.05511019557653136"
      ]
     },
     "execution_count": 11,
     "metadata": {},
     "output_type": "execute_result"
    }
   ],
   "source": [
    "maskSynonyms = ['mask','ffp2']\n",
    "values = []\n",
    "maskPolarization = df[df.text.str.contains('mask',case=False)].polarization\n",
    "maskPolarization1 = df[df.text.str.contains('ffp2',case=False)].polarization\n",
    "mps = [maskPolarization, maskPolarization1]\n",
    "maskPolarizationFinal = pd.concat(mps)\n",
    "maskPolarizationFinal.mean(axis=0)"
   ]
  },
  {
   "cell_type": "code",
   "execution_count": 12,
   "metadata": {},
   "outputs": [
    {
     "data": {
      "image/png": "[encoded data removed]",
      "text/plain": [
       "<Figure size 432x288 with 1 Axes>"
      ]
     },
     "metadata": {},
     "output_type": "display_data"
    }
   ],
   "source": [
    "mpsFrame.plot.bar()\n",
    "plt.title('Sentiments over Time')\n",
    "plt.xlabel('Timeline')\n",
    "plt.ylabel('Affinity')\n",
    "plt.show()"
   ]
  },
  {
   "cell_type": "markdown",
   "metadata": {},
   "source": [
    "People were happiest about the mask in February with 0.092550% affinity, but there is not a very large difference in general about the opinion"
   ]
  },
  {
   "cell_type": "markdown",
   "metadata": {},
   "source": [
    "| Date | Affinity % |\n",
    "| --- | --- |\n",
    "| 2020-07-30 | 0.027874 |\n",
    "| 2020-09-16 | 0.092550 |\n",
    "| 2020-12-31 | 0.044842 |\n",
    "| 2021-02-16 | 0.086701 |\n",
    "| 2021-05-10 | 0.060529 |\n",
    "| 2021-06-05 | 0.054906 |"
   ]
  },
  {
   "cell_type": "code",
   "execution_count": 13,
   "metadata": {},
   "outputs": [
    {
     "data": {
      "image/png": "[encoded data removed]",
      "text/plain": [
       "<Figure size 432x288 with 1 Axes>"
      ]
     },
     "metadata": {},
     "output_type": "display_data"
    }
   ],
   "source": [
    "ax2= tMagFrame.plot()\n",
    "plt.title('Negative, Positive or Neutral classification value')\n",
    "plt.xlabel('Timeline')\n",
    "plt.ylabel('Affinity')\n",
    "plt.show()"
   ]
  },
  {
   "cell_type": "markdown",
   "metadata": {},
   "source": [
    "## Wordcloud Visualization"
   ]
  },
  {
   "cell_type": "markdown",
   "metadata": {},
   "source": [
    "A Wordcloud visualization based on the \"Mask\" filter from the dataset"
   ]
  },
  {
   "cell_type": "code",
   "execution_count": 14,
   "metadata": {},
   "outputs": [
    {
     "data": {
      "image/png": "[encoded data removed]",
      "text/plain": [
       "<Figure size 432x288 with 1 Axes>"
      ]
     },
     "metadata": {},
     "output_type": "display_data"
    },
    {
     "data": {
      "image/png": "[encoded data removed]",
      "text/plain": [
       "<Figure size 432x288 with 1 Axes>"
      ]
     },
     "metadata": {},
     "output_type": "display_data"
    }
   ],
   "source": [
    "generateWordcloudData(df)"
   ]
  }
 ],
 "metadata": {
  "kernelspec": {
   "display_name": "Python 3",
   "language": "python",
   "name": "python3"
  },
  "language_info": {
   "codemirror_mode": {
    "name": "ipython",
    "version": 3
   },
   "file_extension": ".py",
   "mimetype": "text/x-python",
   "name": "python",
   "nbconvert_exporter": "python",
   "pygments_lexer": "ipython3",
   "version": "3.8.8"
  }
 },
 "nbformat": 4,
 "nbformat_minor": 4
}
