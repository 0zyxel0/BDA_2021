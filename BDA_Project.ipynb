{
 "cells": [
  {
   "cell_type": "markdown",
   "metadata": {},
   "source": [
    "## Install Libraries to be used\n",
    "- !pip install -U pip setuptools wheel\n",
    "- !pip install -U spacy\n",
    "- !python -m spacy download en_core_web_sm\n",
    "- !pip install emot --upgrade\n",
    "- !pip install emoji --upgrade\n",
    "- !pip install spacymoji\n",
    "- !pip install spacytextblob\n",
    "- !pip install wordcloud"
   ]
  },
  {
   "cell_type": "markdown",
   "metadata": {},
   "source": [
    "## Importing Libraries that will be used"
   ]
  },
  {
   "cell_type": "code",
   "execution_count": 1,
   "metadata": {},
   "outputs": [],
   "source": [
    "# General Dependencies\n",
    "import ast\n",
    "import json\n",
    "import random \n",
    "import pandas as pd\n",
    "import numpy as np\n",
    "from collections import Counter\n",
    "import matplotlib.pyplot as plt\n",
    "import re\n",
    "import os\n",
    "from timeit import default_timer as timer\n",
    "from tqdm.notebook import tqdm\n",
    "tqdm.pandas()\n",
    "\n",
    "# Load the fields list\n",
    "import fields\n",
    "fieldsFilter = fields.fields\n",
    "\n",
    "# Wordcloud Dependencies\n",
    "from PIL import Image\n",
    "from wordcloud import WordCloud, STOPWORDS\n",
    "\n",
    "# Emoji Dependencies\n",
    "import unicodedata\n",
    "from emot.emo_unicode import UNICODE_EMO, EMOTICONS\n",
    "import emoji\n",
    "\n"
   ]
  },
  {
   "cell_type": "markdown",
   "metadata": {},
   "source": [
    "## Initialize the NLP Module"
   ]
  },
  {
   "cell_type": "code",
   "execution_count": 2,
   "metadata": {},
   "outputs": [
    {
     "data": {
      "text/plain": [
       "<spacytextblob.spacytextblob.SpacyTextBlob at 0x233e35c9610>"
      ]
     },
     "execution_count": 2,
     "metadata": {},
     "output_type": "execute_result"
    }
   ],
   "source": [
    "# Declare Spacy NLP Module\n",
    "import spacy\n",
    "from spacytextblob.spacytextblob import SpacyTextBlob\n",
    "\n",
    "# Load English tokenizer, tagger, parser and NER\n",
    "nlp = spacy.load(\"en_core_web_sm\")\n",
    "nlp.add_pipe('spacytextblob')"
   ]
  },
  {
   "cell_type": "markdown",
   "metadata": {},
   "source": [
    "## Initialize the Functions"
   ]
  },
  {
   "cell_type": "code",
   "execution_count": 3,
   "metadata": {},
   "outputs": [],
   "source": [
    "def createDataSample(datafile = \"\",sample_count = 0):\n",
    "    \n",
    "    '''\n",
    "        Creates a sample dataset from a given json file\n",
    "        @param {'type':string} datafile - file path of the twitter json file\n",
    "        @param {'type':string} sample_count - Number of samples to create\n",
    "        \n",
    "    '''\n",
    "    \n",
    "    list_tweets = None\n",
    "    \n",
    "    with open(datafile, \"r\") as myfile:        \n",
    "        list_tweets = list(myfile)\n",
    "\n",
    "    if int(sample_count) > len(list_tweets):\n",
    "        sample_count = len(list_tweets)\n",
    "\n",
    "    sample = random.sample(list_tweets, int(sample_count))\n",
    "    \n",
    "    file = open(\"./tweets/sample_\"+str(sample_count)+\".json\", \"w\")\n",
    "    for i in sample:\n",
    "        file.write(i)\n",
    "    file.close() #This close() is important\n",
    "\n",
    "    return print(\"Sample File Created.\")\n",
    "\n",
    "\n",
    "# CLEANING  FUNCTIONS\n",
    "\n",
    "def remove_emoticons(text):\n",
    "    emoticon_pattern = re.compile(u'(' + u'|'.join(k for k in EMOTICONS) + u')')\n",
    "    return emoticon_pattern.sub(r'', text)\n",
    "\n",
    "def remove_emoji(text):\n",
    "    emoji_pattern = re.compile(\"[\"\n",
    "                           u\"\\U0001F600-\\U0001F64F\"  # emoticons\n",
    "                           u\"\\U0001F300-\\U0001F5FF\"  # symbols & pictographs\n",
    "                           u\"\\U0001F680-\\U0001F6FF\"  # transport & map symbols\n",
    "                           u\"\\U0001F1E0-\\U0001F1FF\"  # flags (iOS)\n",
    "                           u\"\\U00002702-\\U000027B0\"\n",
    "                           u\"\\U000024C2-\\U0001F251\"\n",
    "                           \"]+\", flags=re.UNICODE)\n",
    "    return emoji_pattern.sub(r'', text)\n",
    "\n",
    "def remove_urls(text):\n",
    "    result = re.sub(r\"http\\S+\", \"\", text)\n",
    "    return(result)\n",
    "\n",
    "def remove_twitter_urls(text):\n",
    "    clean = re.sub(r\"pic.twitter\\S+\", \"\",text)\n",
    "    return(clean)\n",
    "\n",
    "def give_emoji_free_text(text):\n",
    "    return emoji.get_emoji_regexp().sub(r'', text)\n",
    "\n",
    "def remove_user_mentions(text):\n",
    "    clean_tweet = re.sub(\"@[A-Za-z0-9_]+\",\"\", text)\n",
    "    clean_tweet = re.sub(\"#[A-Za-z0-9_]+\",\"\", clean_tweet)\n",
    "    return clean_tweet\n",
    "\n",
    "def change_to_lowercase(text):\n",
    "    return text.lower()    \n",
    "\n",
    "def remove_returnchar(text):\n",
    "    clean_tweet = text.replace('\\r','')\n",
    "    return clean_tweet\n",
    "\n",
    "def remove_whitespaces(text):\n",
    "    clean_tweet = text.replace(r'(\\r\\n)+|\\r+|\\n+|\\t+','')\n",
    "    return clean_tweet\n",
    "    \n",
    "def extractTweetText(datfile):\n",
    "    \n",
    "    #Initialize Temporary Array Storage\n",
    "    tempStorage = []\n",
    "\n",
    "    #Parse Json to a temporary storage\n",
    "    with open('./tweets/'+datfile, 'r') as f:\n",
    "        for line in f:\n",
    "            tempStorage.append(json.loads(line))\n",
    "\n",
    "    # Convert Array to a Pandas Data Frame\n",
    "    tempFrame = pd.DataFrame(tempStorage)\n",
    "    \n",
    "    # Drop all columns except for text column\n",
    "    tempFrame = tempFrame[['text']]\n",
    "    \n",
    "    #Get only the file name and remove the extension\n",
    "    fname = str(datfile).split('.')[0]\n",
    "    \n",
    "    #Save dataframe to csv\n",
    "    tempFrame.to_csv(r'./step_1/s1_'+str(fname)+'.csv')\n",
    "\n",
    "# Clean and process tweet text by removing URL, EMOJI and User Mentions\n",
    "def removeTwitterMeta(datfile):    \n",
    "    tweet_df = pd.read_csv('./step_1/'+str(datfile),index_col=False) \n",
    "    #Replace the spaces and enters\n",
    "    tweet_df = tweet_df.loc[:, tweet_df.columns.isin(fieldsFilter)]\n",
    "    print(\"Step 1 : Cleaning Whitespaces\")\n",
    "    tweet_df['text'] = tweet_df['text'].progress_apply(lambda x : remove_whitespaces(x))\n",
    "    print(\"Step 2 : Cleaning URLs\")\n",
    "    tweet_df['text'] = tweet_df['text'].progress_apply(lambda x : remove_urls(x))\n",
    "    print(\"Step 3 : Cleaning Twitter URLs\")\n",
    "    tweet_df['text'] = tweet_df['text'].progress_apply(lambda x : remove_twitter_urls(x))\n",
    "    print(\"Step 4 : Converting Emoji To Words\")\n",
    "    tweet_df['text'] = tweet_df['text'].progress_apply(lambda x : emoji_to_word(x))\n",
    "    print(\"Step 5 : Cleaning Emoticons\")\n",
    "    tweet_df['text'] = tweet_df['text'].progress_apply(lambda x : remove_emoticons(x))\n",
    "    print(\"Step 6 : Cleaning Twitter User Mentions\")\n",
    "    tweet_df['text'] = tweet_df['text'].progress_apply(lambda x : remove_user_mentions(x))\n",
    "    print(\"Step 6 : Converting To Lower Case\")\n",
    "    tweet_df['text'] = tweet_df['text'].progress_apply(lambda x : change_to_lowercase(x))\n",
    "\n",
    "    #Get only the file name and remove the extension\n",
    "    fname = str(datfile).split('_')[1]\n",
    "    fname = str(fname).split('.')[0]\n",
    "    tweet_df.to_csv(r'./step_2/s2_'+str(fname)+'.csv')\n",
    "\n",
    "def defineVocabulary(data):\n",
    "    tempStorage = []\n",
    "    with nlp.select_pipes(disable=[\"parser\", \"lemmatizer\",\"spacytextblob\",]):\n",
    "        doc= nlp(data)\n",
    "        for token in doc:\n",
    "            tempStorage.append({token.text,token.pos_})\n",
    "    return tempStorage\n",
    "\n",
    "def removeStopWords(data):    \n",
    "    tempStorage = ast.literal_eval(data)    \n",
    "    # Load stop words\n",
    "    spacy_stopwords = spacy.lang.en.stop_words.STOP_WORDS\n",
    "    # Loop inside text\n",
    "    for x in tempStorage:\n",
    "        if x in spacy_stopwords: tempStorage.remove(x) \n",
    "    return tempStorage\n",
    "\n",
    "def definePolarization(data):   \n",
    "    with nlp.select_pipes(disable=[\"tok2vec\", \"parser\", \"attribute_ruler\", \"lemmatizer\"]):\n",
    "        doc= nlp(data)\n",
    "    return doc._.polarity\n",
    "\n",
    "def defineSubjectivity(data):\n",
    "    with nlp.select_pipes(disable=[\"tok2vec\", \"parser\", \"attribute_ruler\", \"lemmatizer\"]):\n",
    "        doc= nlp(data)\n",
    "    return doc._.subjectivity\n",
    "\n",
    "def defineAssessments(data):\n",
    "    with nlp.select_pipes(disable=[\"tok2vec\", \"parser\", \"attribute_ruler\", \"lemmatizer\"]):\n",
    "        doc= nlp(data)\n",
    "    return doc._.assessments\n",
    "    \n",
    "def emoji_to_word(text):\n",
    "    return emoji.demojize(text, delimiters=(\"\", \"\"))\n",
    "\n",
    "# Tokenize the text in the dataframe\n",
    "def tokenizeText(data):\n",
    "    tempStorage = []\n",
    "    with nlp.select_pipes(disable=[\"tagger\", \"parser\", \"lemmatizer\"]):\n",
    "        doc = nlp(data)\n",
    "        for word in doc:\n",
    "            tempStorage.append(word.text)\n",
    "    return tempStorage\n",
    "\n",
    "def generateWordcloudData(payload):    \n",
    "    \"\"\"\n",
    "      This Function Accepts a pandas dataframe from any step of the processing with the named text column.\n",
    "      payload - pandas dataframe with string text column.\n",
    "    \"\"\"   \n",
    "    \n",
    "    combinedText = \"\"\n",
    "    \n",
    "    textData = payload['text']\n",
    "    textData = pd.DataFrame(textData)\n",
    "    \n",
    "    combinedText = combinedText.join(textData.text)\n",
    "\n",
    "    #image storage\n",
    "    # https://drive.google.com/file/d/14DRvgevx-ffa9BKPztzt3nE9B2TamWhJ/view?usp=sharing\n",
    "    mask = np.array(Image.open(\"./img/cov19.png\")) #jpg also ok\n",
    "    stopwords = set(STOPWORDS)\n",
    "    wordcloud = WordCloud(\n",
    "                            max_font_size = 140,\n",
    "                            width = 2000,\n",
    "                            height = 1000,\n",
    "                            background_color = \"white\",\n",
    "                            mask=mask,\n",
    "                            contour_width = 1,\n",
    "                            stopwords = STOPWORDS)\n",
    "\n",
    "    wordcloud.generate(combinedText)\n",
    "\n",
    "    plt.imshow(wordcloud)#, interpolation='bilinear')\n",
    "    plt.axis(\"off\")\n",
    "    plt.figure()\n",
    "#     plt.imshow(mask)#, cmap=plt.cm.gray, interpolation='bilinear')\n",
    "    plt.axis(\"off\")\n",
    "#     plt.show()\n",
    "    #write to img\n",
    "    image = wordcloud.to_image()\n",
    "    image.show()    \n",
    "    \n",
    "    return plt.show()"
   ]
  },
  {
   "cell_type": "code",
   "execution_count": 4,
   "metadata": {
    "scrolled": true
   },
   "outputs": [],
   "source": [
    "def generateUniqueWords(data):\n",
    "\n",
    "    no_top_unique_words = \"50\" #@param {type:\"string\"}\n",
    "\n",
    "    result = Counter(\" \".join(tweet_df['text'].values.tolist()).split(\" \")).items()\n",
    "    df2 = pd.DataFrame(result)\n",
    "    df2.columns =['Word', 'Frequency']\n",
    "    df2 = df2[df2.Word != \"\"] #Deletes the empty spaces counted\n",
    "    df2 = df2.sort_values(['Frequency'], ascending=[False]) #Sort dataframe by frequency (Descending)\n",
    "\n",
    "    print('\\033[1mTop '+no_top_unique_words+' most unique words used from the dataset\\033[0m \\n')\n",
    "    print(df2.head(int(no_top_unique_words)).to_string(index=False)) #Prints the top N unique words used\n",
    "    print(\"\\n\")\n",
    "    df3 = df2.head(int(no_top_unique_words))\n",
    "    df3.plot(y='Frequency', kind='pie', labels=df3['Word'], figsize=(9, 9), autopct='%1.1f%%', title='Top '+no_top_unique_words+' most unique words used from the dataset')"
   ]
  },
  {
   "cell_type": "code",
   "execution_count": null,
   "metadata": {},
   "outputs": [],
   "source": [
    "# Create A Sample Dataset to process\n",
    "# createDataSample(datafile =  './complete/20200730.json', sample_count = 100)"
   ]
  },
  {
   "cell_type": "code",
   "execution_count": 5,
   "metadata": {},
   "outputs": [],
   "source": [
    "# Step 0\n",
    "# Specify Raw Tweet Directory\n",
    "tweetDir = './tweets'\n",
    "_, _, filenames = next(os.walk(tweetDir))\n",
    "\n",
    "for file in filenames:\n",
    "    extractTweetText(file)"
   ]
  },
  {
   "cell_type": "code",
   "execution_count": 6,
   "metadata": {
    "scrolled": true
   },
   "outputs": [
    {
     "name": "stdout",
     "output_type": "stream",
     "text": [
      "Step 1 : Cleaning Whitespaces\n"
     ]
    },
    {
     "data": {
      "application/vnd.jupyter.widget-view+json": {
       "model_id": "5f3aea58019d488e8ea81a0f0248ed67",
       "version_major": 2,
       "version_minor": 0
      },
      "text/plain": [
       "  0%|          | 0/283677 [00:00<?, ?it/s]"
      ]
     },
     "metadata": {},
     "output_type": "display_data"
    },
    {
     "name": "stdout",
     "output_type": "stream",
     "text": [
      "Step 2 : Cleaning URLs\n"
     ]
    },
    {
     "data": {
      "application/vnd.jupyter.widget-view+json": {
       "model_id": "00d61646df53485bba238546fd45dce5",
       "version_major": 2,
       "version_minor": 0
      },
      "text/plain": [
       "  0%|          | 0/283677 [00:00<?, ?it/s]"
      ]
     },
     "metadata": {},
     "output_type": "display_data"
    },
    {
     "name": "stdout",
     "output_type": "stream",
     "text": [
      "Step 3 : Cleaning Twitter URLs\n"
     ]
    },
    {
     "data": {
      "application/vnd.jupyter.widget-view+json": {
       "model_id": "c49169fa31a64792bd29b55a7d5aba01",
       "version_major": 2,
       "version_minor": 0
      },
      "text/plain": [
       "  0%|          | 0/283677 [00:00<?, ?it/s]"
      ]
     },
     "metadata": {},
     "output_type": "display_data"
    },
    {
     "name": "stdout",
     "output_type": "stream",
     "text": [
      "Step 4 : Converting Emoji To Words\n"
     ]
    },
    {
     "data": {
      "application/vnd.jupyter.widget-view+json": {
       "model_id": "3535642aaa684be782c30926ba8a7c8a",
       "version_major": 2,
       "version_minor": 0
      },
      "text/plain": [
       "  0%|          | 0/283677 [00:00<?, ?it/s]"
      ]
     },
     "metadata": {},
     "output_type": "display_data"
    },
    {
     "name": "stdout",
     "output_type": "stream",
     "text": [
      "Step 5 : Cleaning Emoticons\n"
     ]
    },
    {
     "data": {
      "application/vnd.jupyter.widget-view+json": {
       "model_id": "4293ebcdb75d4af8938e77518d416345",
       "version_major": 2,
       "version_minor": 0
      },
      "text/plain": [
       "  0%|          | 0/283677 [00:00<?, ?it/s]"
      ]
     },
     "metadata": {},
     "output_type": "display_data"
    },
    {
     "name": "stdout",
     "output_type": "stream",
     "text": [
      "Step 6 : Cleaning Twitter User Mentions\n"
     ]
    },
    {
     "data": {
      "application/vnd.jupyter.widget-view+json": {
       "model_id": "c990a7939a4d4cd48628f254f80ba361",
       "version_major": 2,
       "version_minor": 0
      },
      "text/plain": [
       "  0%|          | 0/283677 [00:00<?, ?it/s]"
      ]
     },
     "metadata": {},
     "output_type": "display_data"
    },
    {
     "name": "stdout",
     "output_type": "stream",
     "text": [
      "Step 6 : Converting To Lower Case\n"
     ]
    },
    {
     "data": {
      "application/vnd.jupyter.widget-view+json": {
       "model_id": "4be2d9cf01b04f318083b27afcf1abb3",
       "version_major": 2,
       "version_minor": 0
      },
      "text/plain": [
       "  0%|          | 0/283677 [00:00<?, ?it/s]"
      ]
     },
     "metadata": {},
     "output_type": "display_data"
    },
    {
     "name": "stdout",
     "output_type": "stream",
     "text": [
      "125.68810690000001\n"
     ]
    }
   ],
   "source": [
    "# Step 1\n",
    "#Extract Text of Tweets and Save to CSV file\n",
    "\n",
    "tweetDirS1 = './step_1'\n",
    "_, _, filenames_s1 = next(os.walk(tweetDirS1))\n",
    "\n",
    "for file in filenames_s1:\n",
    "    start = timer()\n",
    "    removeTwitterMeta(file)\n",
    "    end = timer()\n",
    "    print(end - start)"
   ]
  },
  {
   "cell_type": "code",
   "execution_count": 7,
   "metadata": {},
   "outputs": [
    {
     "data": {
      "application/vnd.jupyter.widget-view+json": {
       "model_id": "82942c2099de4f7387e52170234b2873",
       "version_major": 2,
       "version_minor": 0
      },
      "text/plain": [
       "  0%|          | 0/283677 [00:00<?, ?it/s]"
      ]
     },
     "metadata": {},
     "output_type": "display_data"
    },
    {
     "name": "stdout",
     "output_type": "stream",
     "text": [
      "1263.2740231\n"
     ]
    }
   ],
   "source": [
    "# Step 2\n",
    "# Get The Files inside the step_2 folder for futher processing\n",
    "tweetDirS2 = './step_2'\n",
    "_, _, filenames_s2 = next(os.walk(tweetDirS2))\n",
    "\n",
    "for file in filenames_s2:\n",
    "    start = timer()    \n",
    "    mydata = pd.read_csv('./step_2/'+file,index_col=False)\n",
    "    del mydata['Unnamed: 0'] \n",
    "    mydata['ttext'] = mydata['text'].progress_apply(lambda x : tokenizeText(x))\n",
    "    \n",
    "    #Get only the file name and remove the extension\n",
    "    fname = str(file).split('_')[1]\n",
    "    fname = str(fname).split('.')[0]\n",
    "    mydata.to_csv(r'./step_3/s3_'+str(fname)+'.csv')\n",
    "    end = timer()\n",
    "    print(end - start)\n"
   ]
  },
  {
   "cell_type": "code",
   "execution_count": 8,
   "metadata": {},
   "outputs": [
    {
     "data": {
      "application/vnd.jupyter.widget-view+json": {
       "model_id": "bfa8e660ea574c8ea8560e68ea9cff2d",
       "version_major": 2,
       "version_minor": 0
      },
      "text/plain": [
       "  0%|          | 0/283677 [00:00<?, ?it/s]"
      ]
     },
     "metadata": {},
     "output_type": "display_data"
    },
    {
     "name": "stdout",
     "output_type": "stream",
     "text": [
      "13.068637999999964\n"
     ]
    }
   ],
   "source": [
    "# Step 3\n",
    "# Get The Files inside the step_3 folder and reduce the connecting words\n",
    "tweetDirS3 = './step_3'\n",
    "_, _, filenames_s3 = next(os.walk(tweetDirS3))\n",
    "\n",
    "for file in filenames_s3:\n",
    "    start = timer()\n",
    "    mydata = pd.read_csv('./step_3/'+file,index_col=False)\n",
    "    del mydata['Unnamed: 0']\n",
    "    mydata['nstop'] = mydata['ttext'].progress_apply(lambda x : removeStopWords(x))\n",
    "    \n",
    "    #Get only the file name and remove the extension\n",
    "    fname = str(file).split('_')[1]\n",
    "    fname = str(fname).split('.')[0]\n",
    "    mydata.to_csv(r'./step_4/s4_'+str(fname)+'.csv')\n",
    "    end = timer()\n",
    "    print(end - start)"
   ]
  },
  {
   "cell_type": "code",
   "execution_count": 9,
   "metadata": {},
   "outputs": [
    {
     "name": "stdout",
     "output_type": "stream",
     "text": [
      "Processing Text Polarization\n"
     ]
    },
    {
     "data": {
      "application/vnd.jupyter.widget-view+json": {
       "model_id": "0822511207cf4380900ecfd538afe03b",
       "version_major": 2,
       "version_minor": 0
      },
      "text/plain": [
       "  0%|          | 0/283677 [00:00<?, ?it/s]"
      ]
     },
     "metadata": {},
     "output_type": "display_data"
    },
    {
     "name": "stdout",
     "output_type": "stream",
     "text": [
      "Processing Text Subjectivity\n"
     ]
    },
    {
     "data": {
      "application/vnd.jupyter.widget-view+json": {
       "model_id": "a45de46071714d8aa67057d8ac2b9be1",
       "version_major": 2,
       "version_minor": 0
      },
      "text/plain": [
       "  0%|          | 0/283677 [00:00<?, ?it/s]"
      ]
     },
     "metadata": {},
     "output_type": "display_data"
    },
    {
     "name": "stdout",
     "output_type": "stream",
     "text": [
      "Processing Text Assessments\n"
     ]
    },
    {
     "data": {
      "application/vnd.jupyter.widget-view+json": {
       "model_id": "1e4300372b8c47908a7f9e9d5bf475a2",
       "version_major": 2,
       "version_minor": 0
      },
      "text/plain": [
       "  0%|          | 0/283677 [00:00<?, ?it/s]"
      ]
     },
     "metadata": {},
     "output_type": "display_data"
    },
    {
     "name": "stdout",
     "output_type": "stream",
     "text": [
      "2205.823334\n"
     ]
    },
    {
     "data": {
      "text/html": [
       "<div>\n",
       "<style scoped>\n",
       "    .dataframe tbody tr th:only-of-type {\n",
       "        vertical-align: middle;\n",
       "    }\n",
       "\n",
       "    .dataframe tbody tr th {\n",
       "        vertical-align: top;\n",
       "    }\n",
       "\n",
       "    .dataframe thead th {\n",
       "        text-align: right;\n",
       "    }\n",
       "</style>\n",
       "<table border=\"1\" class=\"dataframe\">\n",
       "  <thead>\n",
       "    <tr style=\"text-align: right;\">\n",
       "      <th></th>\n",
       "      <th>text</th>\n",
       "      <th>ttext</th>\n",
       "      <th>nstop</th>\n",
       "      <th>polarization</th>\n",
       "      <th>subjectivity</th>\n",
       "      <th>assessment</th>\n",
       "    </tr>\n",
       "  </thead>\n",
       "  <tbody>\n",
       "    <tr>\n",
       "      <th>0</th>\n",
       "      <td>by this weekend it’s likely that 200,000 peopl...</td>\n",
       "      <td>['by', 'this', 'weekend', 'it', '’s', 'likely'...</td>\n",
       "      <td>['this', 'weekend', '’s', 'likely', '200,000',...</td>\n",
       "      <td>0.000000</td>\n",
       "      <td>1.000000</td>\n",
       "      <td>[([likely], 0.0, 1.0, None)]</td>\n",
       "    </tr>\n",
       "    <tr>\n",
       "      <th>1</th>\n",
       "      <td>how does he not understand the difference bet...</td>\n",
       "      <td>[' ', 'how', 'does', 'he', 'not', 'understand'...</td>\n",
       "      <td>[' ', 'does', 'not', 'understand', 'difference...</td>\n",
       "      <td>-0.086364</td>\n",
       "      <td>0.572727</td>\n",
       "      <td>[([positive], 0.22727272727272727, 0.545454545...</td>\n",
       "    </tr>\n",
       "    <tr>\n",
       "      <th>2</th>\n",
       "      <td>parliament live updates: debate on covid-19 in...</td>\n",
       "      <td>['parliament', 'live', 'updates', ':', 'debate...</td>\n",
       "      <td>['parliament', 'live', 'updates', ':', 'debate...</td>\n",
       "      <td>0.136364</td>\n",
       "      <td>0.500000</td>\n",
       "      <td>[([live], 0.13636363636363635, 0.5, None)]</td>\n",
       "    </tr>\n",
       "    <tr>\n",
       "      <th>3</th>\n",
       "      <td>mesa public schools &amp;amp; city team up to give...</td>\n",
       "      <td>['mesa', 'public', 'schools', '&amp;', 'amp', ';',...</td>\n",
       "      <td>['mesa', 'public', 'schools', '&amp;', 'amp', ';',...</td>\n",
       "      <td>0.200000</td>\n",
       "      <td>0.433333</td>\n",
       "      <td>[([public], 0.0, 0.06666666666666667, None), (...</td>\n",
       "    </tr>\n",
       "    <tr>\n",
       "      <th>4</th>\n",
       "      <td>maybe he really meant \"herd mentality\", becau...</td>\n",
       "      <td>[' ', 'maybe', 'he', 'really', 'meant', '\"', '...</td>\n",
       "      <td>[' ', 'maybe', 'really', 'meant', '\"', 'herd',...</td>\n",
       "      <td>0.200000</td>\n",
       "      <td>0.200000</td>\n",
       "      <td>[([really], 0.2, 0.2, None)]</td>\n",
       "    </tr>\n",
       "    <tr>\n",
       "      <th>...</th>\n",
       "      <td>...</td>\n",
       "      <td>...</td>\n",
       "      <td>...</td>\n",
       "      <td>...</td>\n",
       "      <td>...</td>\n",
       "      <td>...</td>\n",
       "    </tr>\n",
       "    <tr>\n",
       "      <th>283672</th>\n",
       "      <td>…</td>\n",
       "      <td>['         ', '…']</td>\n",
       "      <td>['         ', '…']</td>\n",
       "      <td>0.000000</td>\n",
       "      <td>0.000000</td>\n",
       "      <td>[]</td>\n",
       "    </tr>\n",
       "    <tr>\n",
       "      <th>283673</th>\n",
       "      <td>check this out, nashville's mayor is busted ...</td>\n",
       "      <td>['  ', 'check', 'this', 'out', ',', 'nashville...</td>\n",
       "      <td>['  ', 'check', 'out', ',', 'nashville', 'mayo...</td>\n",
       "      <td>0.000000</td>\n",
       "      <td>0.300000</td>\n",
       "      <td>[([low], 0.0, 0.3, None)]</td>\n",
       "    </tr>\n",
       "    <tr>\n",
       "      <th>283674</th>\n",
       "      <td>yelp just lost 60% of their addressable market...</td>\n",
       "      <td>['yelp', 'just', 'lost', '60', '%', 'of', 'the...</td>\n",
       "      <td>['yelp', 'lost', '60', '%', 'their', 'addressa...</td>\n",
       "      <td>0.000000</td>\n",
       "      <td>0.000000</td>\n",
       "      <td>[]</td>\n",
       "    </tr>\n",
       "    <tr>\n",
       "      <th>283675</th>\n",
       "      <td>the new trump wh covid-19 plan! \\n\\nwtf?</td>\n",
       "      <td>['the', 'new', 'trump', 'wh', 'covid-19', 'pla...</td>\n",
       "      <td>['new', 'trump', 'wh', 'covid-19', 'plan', '!'...</td>\n",
       "      <td>-0.164773</td>\n",
       "      <td>0.727273</td>\n",
       "      <td>[([new, !], 0.17045454545454544, 0.45454545454...</td>\n",
       "    </tr>\n",
       "    <tr>\n",
       "      <th>283676</th>\n",
       "      <td>top 10 states for new covid-19 cases for septe...</td>\n",
       "      <td>['top', '10', 'states', 'for', 'new', 'covid-1...</td>\n",
       "      <td>['10', 'states', 'new', 'covid-19', 'cases', '...</td>\n",
       "      <td>0.318182</td>\n",
       "      <td>0.477273</td>\n",
       "      <td>[([top], 0.5, 0.5, None), ([new], 0.1363636363...</td>\n",
       "    </tr>\n",
       "  </tbody>\n",
       "</table>\n",
       "<p>283677 rows × 6 columns</p>\n",
       "</div>"
      ],
      "text/plain": [
       "                                                     text  \\\n",
       "0       by this weekend it’s likely that 200,000 peopl...   \n",
       "1        how does he not understand the difference bet...   \n",
       "2       parliament live updates: debate on covid-19 in...   \n",
       "3       mesa public schools &amp; city team up to give...   \n",
       "4        maybe he really meant \"herd mentality\", becau...   \n",
       "...                                                   ...   \n",
       "283672                                                 …    \n",
       "283673    check this out, nashville's mayor is busted ...   \n",
       "283674  yelp just lost 60% of their addressable market...   \n",
       "283675           the new trump wh covid-19 plan! \\n\\nwtf?   \n",
       "283676  top 10 states for new covid-19 cases for septe...   \n",
       "\n",
       "                                                    ttext  \\\n",
       "0       ['by', 'this', 'weekend', 'it', '’s', 'likely'...   \n",
       "1       [' ', 'how', 'does', 'he', 'not', 'understand'...   \n",
       "2       ['parliament', 'live', 'updates', ':', 'debate...   \n",
       "3       ['mesa', 'public', 'schools', '&', 'amp', ';',...   \n",
       "4       [' ', 'maybe', 'he', 'really', 'meant', '\"', '...   \n",
       "...                                                   ...   \n",
       "283672                                 ['         ', '…']   \n",
       "283673  ['  ', 'check', 'this', 'out', ',', 'nashville...   \n",
       "283674  ['yelp', 'just', 'lost', '60', '%', 'of', 'the...   \n",
       "283675  ['the', 'new', 'trump', 'wh', 'covid-19', 'pla...   \n",
       "283676  ['top', '10', 'states', 'for', 'new', 'covid-1...   \n",
       "\n",
       "                                                    nstop  polarization  \\\n",
       "0       ['this', 'weekend', '’s', 'likely', '200,000',...      0.000000   \n",
       "1       [' ', 'does', 'not', 'understand', 'difference...     -0.086364   \n",
       "2       ['parliament', 'live', 'updates', ':', 'debate...      0.136364   \n",
       "3       ['mesa', 'public', 'schools', '&', 'amp', ';',...      0.200000   \n",
       "4       [' ', 'maybe', 'really', 'meant', '\"', 'herd',...      0.200000   \n",
       "...                                                   ...           ...   \n",
       "283672                                 ['         ', '…']      0.000000   \n",
       "283673  ['  ', 'check', 'out', ',', 'nashville', 'mayo...      0.000000   \n",
       "283674  ['yelp', 'lost', '60', '%', 'their', 'addressa...      0.000000   \n",
       "283675  ['new', 'trump', 'wh', 'covid-19', 'plan', '!'...     -0.164773   \n",
       "283676  ['10', 'states', 'new', 'covid-19', 'cases', '...      0.318182   \n",
       "\n",
       "        subjectivity                                         assessment  \n",
       "0           1.000000                       [([likely], 0.0, 1.0, None)]  \n",
       "1           0.572727  [([positive], 0.22727272727272727, 0.545454545...  \n",
       "2           0.500000         [([live], 0.13636363636363635, 0.5, None)]  \n",
       "3           0.433333  [([public], 0.0, 0.06666666666666667, None), (...  \n",
       "4           0.200000                       [([really], 0.2, 0.2, None)]  \n",
       "...              ...                                                ...  \n",
       "283672      0.000000                                                 []  \n",
       "283673      0.300000                          [([low], 0.0, 0.3, None)]  \n",
       "283674      0.000000                                                 []  \n",
       "283675      0.727273  [([new, !], 0.17045454545454544, 0.45454545454...  \n",
       "283676      0.477273  [([top], 0.5, 0.5, None), ([new], 0.1363636363...  \n",
       "\n",
       "[283677 rows x 6 columns]"
      ]
     },
     "execution_count": 9,
     "metadata": {},
     "output_type": "execute_result"
    }
   ],
   "source": [
    "# Step 4\n",
    "# Get The Files inside the step_5 folder add column for polarity, assessment and subjectivity\n",
    "\n",
    "tweetDirS4 = './step_4'\n",
    "_, _, filenames_s4 = next(os.walk(tweetDirS4))\n",
    "\n",
    "for file in filenames_s4:\n",
    "    start = timer()\n",
    "    mydata = pd.read_csv('./step_4/'+file,index_col=False)\n",
    "    del mydata['Unnamed: 0'] \n",
    "    print(\"Processing Text Polarization\")\n",
    "    mydata['polarization'] = mydata['text'].progress_apply(lambda x : definePolarization(x))\n",
    "    print(\"Processing Text Subjectivity\")\n",
    "    mydata['subjectivity'] = mydata['text'].progress_apply(lambda x : defineSubjectivity(x))\n",
    "    print(\"Processing Text Assessments\")\n",
    "    mydata['assessment'] = mydata['text'].progress_apply(lambda x : defineAssessments(x))\n",
    "    \n",
    "    #Get only the file name and remove the extension\n",
    "    fname = str(file).split('_')[1]\n",
    "    fname = str(fname).split('.')[0]\n",
    "    mydata.to_csv(r'./step_5/s5_'+str(fname)+'.csv')\n",
    "    end = timer()\n",
    "    print(end - start)\n",
    "# Seperate wordscore in 3 seperate columns\n",
    "mydata"
   ]
  },
  {
   "cell_type": "code",
   "execution_count": 10,
   "metadata": {},
   "outputs": [
    {
     "data": {
      "application/vnd.jupyter.widget-view+json": {
       "model_id": "eb01c3f922fa4ad19f8c9ce3c949a1ad",
       "version_major": 2,
       "version_minor": 0
      },
      "text/plain": [
       "  0%|          | 0/283677 [00:00<?, ?it/s]"
      ]
     },
     "metadata": {},
     "output_type": "display_data"
    },
    {
     "name": "stdout",
     "output_type": "stream",
     "text": [
      "1178.5139718999994\n"
     ]
    }
   ],
   "source": [
    "# Step 5 OPTIONAL\n",
    "# Get The Files inside the step_4 folder check\n",
    "\n",
    "tweetDirS5 = './step_5'\n",
    "_, _, filenames_s5 = next(os.walk(tweetDirS5))\n",
    "\n",
    "for file in filenames_s5:\n",
    "    start = timer()\n",
    "    mydata = pd.read_csv('./step_5/'+file,index_col=False)\n",
    "    del mydata['Unnamed: 0'] \n",
    "    processingFrame = mydata['text'].copy()\n",
    "    processingFrame = pd.DataFrame(processingFrame)\n",
    "    processingFrame['wordDef'] = processingFrame['text'].progress_apply(lambda x : defineVocabulary(x))\n",
    "    mydata['wordDef'] = processingFrame['wordDef'].copy()\n",
    "    #Get only the file name and remove the extension\n",
    "    fname = str(file).split('_')[1]\n",
    "    fname = str(fname).split('.')[0]\n",
    "    mydata.to_csv(r'./step_6/s6_'+str(fname)+'.csv')\n",
    "    end = timer()\n",
    "    print(end - start)"
   ]
  },
  {
   "cell_type": "code",
   "execution_count": 11,
   "metadata": {},
   "outputs": [
    {
     "data": {
      "image/png": "[encoded data removed]",
      "text/plain": [
       "<Figure size 432x288 with 1 Axes>"
      ]
     },
     "metadata": {
      "needs_background": "light"
     },
     "output_type": "display_data"
    },
    {
     "data": {
      "image/png": "[encoded data removed]",
      "text/plain": [
       "<Figure size 432x288 with 1 Axes>"
      ]
     },
     "metadata": {
      "needs_background": "light"
     },
     "output_type": "display_data"
    }
   ],
   "source": [
    "generateWordcloudData(mydata)"
   ]
  },
  {
   "cell_type": "code",
   "execution_count": null,
   "metadata": {},
   "outputs": [],
   "source": []
  },
  {
   "cell_type": "code",
   "execution_count": null,
   "metadata": {},
   "outputs": [],
   "source": []
  },
  {
   "cell_type": "code",
   "execution_count": null,
   "metadata": {},
   "outputs": [],
   "source": []
  },
  {
   "cell_type": "code",
   "execution_count": null,
   "metadata": {},
   "outputs": [],
   "source": []
  },
  {
   "cell_type": "code",
   "execution_count": null,
   "metadata": {},
   "outputs": [],
   "source": []
  },
  {
   "cell_type": "code",
   "execution_count": null,
   "metadata": {},
   "outputs": [],
   "source": [
    "\n"
   ]
  },
  {
   "cell_type": "code",
   "execution_count": null,
   "metadata": {},
   "outputs": [],
   "source": []
  },
  {
   "cell_type": "code",
   "execution_count": null,
   "metadata": {},
   "outputs": [],
   "source": [
    "\n",
    "    "
   ]
  }
 ],
 "metadata": {
  "kernelspec": {
   "display_name": "Python 3",
   "language": "python",
   "name": "python3"
  },
  "language_info": {
   "codemirror_mode": {
    "name": "ipython",
    "version": 3
   },
   "file_extension": ".py",
   "mimetype": "text/x-python",
   "name": "python",
   "nbconvert_exporter": "python",
   "pygments_lexer": "ipython3",
   "version": "3.8.8"
  }
 },
 "nbformat": 4,
 "nbformat_minor": 4
}
